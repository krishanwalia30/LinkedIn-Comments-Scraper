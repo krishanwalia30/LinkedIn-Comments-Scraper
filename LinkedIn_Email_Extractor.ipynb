{
 "cells": [
  {
   "cell_type": "markdown",
   "metadata": {},
   "source": [
    "### Installing the Required Libraries"
   ]
  },
  {
   "cell_type": "code",
   "execution_count": 1,
   "metadata": {},
   "outputs": [
    {
     "name": "stdout",
     "output_type": "stream",
     "text": [
      "Requirement already satisfied: selenium in d:\\machine_learning\\steel-plate-defect-prediction\\spd\\lib\\site-packages (4.18.1)\n",
      "Requirement already satisfied: urllib3<3,>=1.26 in d:\\machine_learning\\steel-plate-defect-prediction\\spd\\lib\\site-packages (from urllib3[socks]<3,>=1.26->selenium) (2.2.1)\n",
      "Requirement already satisfied: trio~=0.17 in d:\\machine_learning\\steel-plate-defect-prediction\\spd\\lib\\site-packages (from selenium) (0.25.0)\n",
      "Requirement already satisfied: trio-websocket~=0.9 in d:\\machine_learning\\steel-plate-defect-prediction\\spd\\lib\\site-packages (from selenium) (0.11.1)\n",
      "Requirement already satisfied: certifi>=2021.10.8 in d:\\machine_learning\\steel-plate-defect-prediction\\spd\\lib\\site-packages (from selenium) (2024.2.2)\n",
      "Requirement already satisfied: typing_extensions>=4.9.0 in d:\\machine_learning\\steel-plate-defect-prediction\\spd\\lib\\site-packages (from selenium) (4.10.0)\n",
      "Requirement already satisfied: attrs>=23.2.0 in d:\\machine_learning\\steel-plate-defect-prediction\\spd\\lib\\site-packages (from trio~=0.17->selenium) (23.2.0)\n",
      "Requirement already satisfied: sortedcontainers in d:\\machine_learning\\steel-plate-defect-prediction\\spd\\lib\\site-packages (from trio~=0.17->selenium) (2.4.0)\n",
      "Requirement already satisfied: idna in d:\\machine_learning\\steel-plate-defect-prediction\\spd\\lib\\site-packages (from trio~=0.17->selenium) (3.6)\n",
      "Requirement already satisfied: outcome in d:\\machine_learning\\steel-plate-defect-prediction\\spd\\lib\\site-packages (from trio~=0.17->selenium) (1.3.0.post0)\n",
      "Requirement already satisfied: sniffio>=1.3.0 in d:\\machine_learning\\steel-plate-defect-prediction\\spd\\lib\\site-packages (from trio~=0.17->selenium) (1.3.1)\n",
      "Requirement already satisfied: cffi>=1.14 in d:\\machine_learning\\steel-plate-defect-prediction\\spd\\lib\\site-packages (from trio~=0.17->selenium) (1.16.0)\n",
      "Requirement already satisfied: exceptiongroup in d:\\machine_learning\\steel-plate-defect-prediction\\spd\\lib\\site-packages (from trio~=0.17->selenium) (1.2.0)\n",
      "Requirement already satisfied: wsproto>=0.14 in d:\\machine_learning\\steel-plate-defect-prediction\\spd\\lib\\site-packages (from trio-websocket~=0.9->selenium) (1.2.0)\n",
      "Requirement already satisfied: pysocks!=1.5.7,<2.0,>=1.5.6 in d:\\machine_learning\\steel-plate-defect-prediction\\spd\\lib\\site-packages (from urllib3[socks]<3,>=1.26->selenium) (1.7.1)\n",
      "Requirement already satisfied: pycparser in d:\\machine_learning\\steel-plate-defect-prediction\\spd\\lib\\site-packages (from cffi>=1.14->trio~=0.17->selenium) (2.21)\n",
      "Requirement already satisfied: h11<1,>=0.9.0 in d:\\machine_learning\\steel-plate-defect-prediction\\spd\\lib\\site-packages (from wsproto>=0.14->trio-websocket~=0.9->selenium) (0.14.0)\n",
      "Note: you may need to restart the kernel to use updated packages.\n"
     ]
    }
   ],
   "source": [
    "%pip install selenium"
   ]
  },
  {
   "cell_type": "code",
   "execution_count": 4,
   "metadata": {},
   "outputs": [
    {
     "name": "stdout",
     "output_type": "stream",
     "text": [
      "Collecting webdriver_manager\n",
      "  Downloading webdriver_manager-4.0.1-py2.py3-none-any.whl.metadata (12 kB)\n",
      "Collecting requests (from webdriver_manager)\n",
      "  Using cached requests-2.31.0-py3-none-any.whl.metadata (4.6 kB)\n",
      "Collecting python-dotenv (from webdriver_manager)\n",
      "  Downloading python_dotenv-1.0.1-py3-none-any.whl.metadata (23 kB)\n",
      "Requirement already satisfied: packaging in d:\\machine_learning\\steel-plate-defect-prediction\\spd\\lib\\site-packages (from webdriver_manager) (24.0)\n",
      "Collecting charset-normalizer<4,>=2 (from requests->webdriver_manager)\n",
      "  Using cached charset_normalizer-3.3.2-cp39-cp39-win_amd64.whl.metadata (34 kB)\n",
      "Requirement already satisfied: idna<4,>=2.5 in d:\\machine_learning\\steel-plate-defect-prediction\\spd\\lib\\site-packages (from requests->webdriver_manager) (3.6)\n",
      "Requirement already satisfied: urllib3<3,>=1.21.1 in d:\\machine_learning\\steel-plate-defect-prediction\\spd\\lib\\site-packages (from requests->webdriver_manager) (2.2.1)\n",
      "Requirement already satisfied: certifi>=2017.4.17 in d:\\machine_learning\\steel-plate-defect-prediction\\spd\\lib\\site-packages (from requests->webdriver_manager) (2024.2.2)\n",
      "Downloading webdriver_manager-4.0.1-py2.py3-none-any.whl (27 kB)\n",
      "Downloading python_dotenv-1.0.1-py3-none-any.whl (19 kB)\n",
      "Using cached requests-2.31.0-py3-none-any.whl (62 kB)\n",
      "Using cached charset_normalizer-3.3.2-cp39-cp39-win_amd64.whl (100 kB)\n",
      "Installing collected packages: python-dotenv, charset-normalizer, requests, webdriver_manager\n",
      "Successfully installed charset-normalizer-3.3.2 python-dotenv-1.0.1 requests-2.31.0 webdriver_manager-4.0.1\n",
      "Note: you may need to restart the kernel to use updated packages.\n"
     ]
    }
   ],
   "source": [
    "%pip install webdriver_manager"
   ]
  },
  {
   "cell_type": "markdown",
   "metadata": {},
   "source": [
    "___"
   ]
  },
  {
   "cell_type": "markdown",
   "metadata": {},
   "source": [
    "## Main Script"
   ]
  },
  {
   "cell_type": "markdown",
   "metadata": {},
   "source": [
    "#### 1. Importing the required libraries"
   ]
  },
  {
   "cell_type": "code",
   "execution_count": 5,
   "metadata": {},
   "outputs": [],
   "source": [
    "import re\n",
    "import pandas as pd\n",
    "from selenium import webdriver\n",
    "from selenium.webdriver.common.by import By\n",
    "\n",
    "# For Microsoft Edge browser --------------------------------\n",
    "option = webdriver.EdgeOptions()\n",
    "\n",
    "# Chrome Options --------------------------------\n",
    "# from webdriver_manager.chrome import ChromeDriverManager\n",
    "# driver = webdriver.Chrome(ChromeDriverManager().install())"
   ]
  },
  {
   "cell_type": "markdown",
   "metadata": {},
   "source": [
    "- `The output of the kernel below will give the option to which the driver is installed`"
   ]
  },
  {
   "cell_type": "code",
   "execution_count": 6,
   "metadata": {},
   "outputs": [
    {
     "data": {
      "text/plain": [
       "<selenium.webdriver.edge.options.Options at 0x1b5f21a99a0>"
      ]
     },
     "execution_count": 6,
     "metadata": {},
     "output_type": "execute_result"
    }
   ],
   "source": [
    "option"
   ]
  },
  {
   "cell_type": "markdown",
   "metadata": {},
   "source": [
    "#### 2. Setting up the driver "
   ]
  },
  {
   "cell_type": "code",
   "execution_count": 7,
   "metadata": {},
   "outputs": [],
   "source": [
    "driver = webdriver.Edge(options=option)"
   ]
  },
  {
   "cell_type": "markdown",
   "metadata": {},
   "source": [
    "- `driver.get method() will navigate to a page given by the URL address`"
   ]
  },
  {
   "cell_type": "code",
   "execution_count": 8,
   "metadata": {},
   "outputs": [],
   "source": [
    "URL = \"https://www.linkedin.com/posts/jyoti-bhasin-7840991ba_resources-sop-cv-activity-7145768597116641281-lL2O/?utm_source=share&utm_medium=member_desktop\"\n",
    "driver.get(URL)"
   ]
  },
  {
   "cell_type": "markdown",
   "metadata": {},
   "source": [
    "- `This will search for the load more comments button and then will click on it.`"
   ]
  },
  {
   "cell_type": "code",
   "execution_count": 37,
   "metadata": {},
   "outputs": [
    {
     "name": "stdout",
     "output_type": "stream",
     "text": [
      "The button is not found\n"
     ]
    }
   ],
   "source": [
    "try:\n",
    "    for i in range(10000):\n",
    "        button = driver.find_element(by=By.CLASS_NAME, value=\"comments-comments-list__load-more-comments-button\")\n",
    "        driver.implicitly_wait(3)\n",
    "        button.click()   \n",
    "except Exception as e:\n",
    "    print('The button is not found')\n"
   ]
  },
  {
   "cell_type": "markdown",
   "metadata": {},
   "source": [
    "#### 3. Fetching the components from the comments section of the post"
   ]
  },
  {
   "cell_type": "markdown",
   "metadata": {},
   "source": [
    "Look for the different elements in the webpage which are,\n",
    "- Email\n",
    "- Name \n",
    "- Headline\n",
    "- Number of comments "
   ]
  },
  {
   "cell_type": "markdown",
   "metadata": {},
   "source": [
    "*Class Names of different elements,-*\n",
    "\n",
    "- emails: `comments-comment-item-content-body` \n",
    "\n",
    "- comments: `social-details-social-counts__comments`\n",
    "\n",
    "- name: `comments-post-meta__name`\n",
    "\n",
    "- headline: `comments-post-meta__headline`"
   ]
  },
  {
   "cell_type": "code",
   "execution_count": 26,
   "metadata": {},
   "outputs": [],
   "source": [
    "emails = driver.find_elements(value='comments-comment-item-content-body', by=By.CLASS_NAME)\n",
    "comments = driver.find_element(value='social-details-social-counts__comments', by=By.CLASS_NAME)\n",
    "name = driver.find_elements(value=\"comments-post-meta__name\", by=By.CLASS_NAME)\n",
    "headline = driver.find_elements(by=By.CLASS_NAME,value='comments-post-meta__headline')"
   ]
  },
  {
   "cell_type": "markdown",
   "metadata": {},
   "source": [
    "### 4. Checking if the data has been correctly fetched"
   ]
  },
  {
   "cell_type": "code",
   "execution_count": 27,
   "metadata": {},
   "outputs": [
    {
     "data": {
      "text/plain": [
       "'atharvkumarsingh_bt21b2_13@dtu.ac.in'"
      ]
     },
     "execution_count": 27,
     "metadata": {},
     "output_type": "execute_result"
    }
   ],
   "source": [
    "emails[1].text"
   ]
  },
  {
   "cell_type": "code",
   "execution_count": 28,
   "metadata": {},
   "outputs": [
    {
     "data": {
      "text/plain": [
       "'536 comments'"
      ]
     },
     "execution_count": 28,
     "metadata": {},
     "output_type": "execute_result"
    }
   ],
   "source": [
    "comments.text"
   ]
  },
  {
   "cell_type": "code",
   "execution_count": 29,
   "metadata": {},
   "outputs": [
    {
     "data": {
      "text/plain": [
       "'Krishan Walia'"
      ]
     },
     "execution_count": 29,
     "metadata": {},
     "output_type": "execute_result"
    }
   ],
   "source": [
    "(name[0].text).split('\\n')[0]"
   ]
  },
  {
   "cell_type": "code",
   "execution_count": 30,
   "metadata": {},
   "outputs": [
    {
     "data": {
      "text/plain": [
       "'Experienced in ML and AI | Full Stack Developer | Quantum Computing Enthusiast | Writer | Research Scholar | Working on a Utility Patent'"
      ]
     },
     "execution_count": 30,
     "metadata": {},
     "output_type": "execute_result"
    }
   ],
   "source": [
    "headline[0].text"
   ]
  },
  {
   "cell_type": "markdown",
   "metadata": {},
   "source": [
    "#### 5. Extracting emails from the selenium driver object"
   ]
  },
  {
   "cell_type": "code",
   "execution_count": 31,
   "metadata": {},
   "outputs": [
    {
     "data": {
      "text/plain": [
       "536"
      ]
     },
     "execution_count": 31,
     "metadata": {},
     "output_type": "execute_result"
    }
   ],
   "source": [
    "no_of_comments = int((comments.text).split(' ')[0])\n",
    "no_of_comments"
   ]
  },
  {
   "cell_type": "code",
   "execution_count": 32,
   "metadata": {},
   "outputs": [
    {
     "name": "stdout",
     "output_type": "stream",
     "text": [
      "['krishanw30@gmail.com']\n",
      "['atharvkumarsingh_bt21b2_13@dtu.ac.in']\n",
      "['bovascherian@gmail.com']\n",
      "['aviral.s@iitg.ac.in']\n",
      "['dhruvkhare148@gmail.com']\n",
      "['piero.ong11@gmail.com']\n",
      "['aaryark19@gmail.com']\n",
      "['11n44sourjeshmukherjee@gmail.com']\n",
      "['trgtrong17@gmail.com']\n",
      "['term101112@gmail.com']\n",
      "['rutajit.dey@gmail.com']\n",
      "['aaryan2004kumar@gmail.com']\n",
      "['23cheds.bhat@ug.ictmumbai.edu.in']\n",
      "['rathod.6@iitj.ac.in']\n",
      "['muskankadian263@gmail.com']\n",
      "['themahmed19651@outlook.com']\n",
      "['roomofambition@gmail.com']\n",
      "['aanshsamyani123@gmail.com']\n",
      "['khamesra@wisc.edu']\n",
      "['anish2023.tubai@gmail.com']\n",
      "['mrflame5883@gmail.com']\n",
      "['Ayushman22128@iiitd.ac.in']\n",
      "['Siddhisharma4549@gmail.com']\n",
      "['dassoumyadeep26@gmail.com']\n",
      "[]\n",
      "['sukriti.bansal17@gmail.com']\n",
      "['manas.chopra.2022@msit.in']\n",
      "['muskanag821@gmail.com']\n",
      "['easwaramoorthysriram43815@gmail.com']\n",
      "['frahman2330149@bsds.uiu.ac.bd']\n",
      "['ushsenush@gmail.com']\n",
      "['styshri10@gmail.com']\n",
      "['prem.rathod.2715@gmail.com']\n",
      "[]\n",
      "['aniketnayak2u@gmail.com']\n",
      "['722211017013@andhrauniversity.edu.in']\n",
      "['saad0farooqui7@gmail.com']\n",
      "['sreyaghosh.cu@gmail.com', 'pgmat28@cuk.ac.in']\n",
      "['aatishk.bt.22@nitj.ac.in.']\n",
      "['mehak.saggu@mail.utoronto.ca']\n",
      "[]\n",
      "['Sabharwalriddhisha@gmail.com']\n",
      "[]\n",
      "['kim72j@mtholyoke.edu']\n",
      "['hariommodi812@gmail.com']\n",
      "['abansal10_be22@thapar.edu']\n",
      "['satvik10work@gmail.com']\n",
      "['Radhikachimnani03@gmail.com']\n",
      "['Shantanu.212135@sggscc.ac.in']\n",
      "['Krishna.ut2005@gmail.com']\n",
      "['Prerit.work.007@gmail.com']\n",
      "['ac3370@srmist.edu.in']\n",
      "['arpitbbsrboy@gmail.com']\n",
      "['kumaradarsh1702@gmail.com']\n",
      "['aaryapillai04@gmail.com']\n",
      "['pooja.kr.374@gmail.com.']\n",
      "['Kaderissagoulbi@gmail.com']\n",
      "['vibha.srichand@gmail.com']\n",
      "['keerthana3942@gmail.com']\n",
      "['vinayakbiswas427@gmail.com']\n",
      "['mhuynh@villanova.edu']\n",
      "['prajtiwa2003@gmail.com']\n",
      "['s.manas@iitg.ac.in']\n",
      "['chirag@iitbhilai.ac.in']\n",
      "['sarachhajed03@gmail.com']\n",
      "['cruzerbladetamal@gmail.com']\n",
      "['epictvictor@gmail.com']\n",
      "['srishti21@iitk.ac.in']\n",
      "['nikki04nov@gmail.com']\n",
      "['unnatinath13@gmail.com']\n",
      "['palakbafna44@gmail.com']\n",
      "['surajkonda2004@gmail.com']\n",
      "['yatharthbsingh@outlook.com']\n",
      "['jyoticharan266@gmail.com']\n",
      "['sagnikmail2018@gmail.com']\n",
      "['kritikadudi@gmail.com']\n",
      "['achyuts.ug21.ec@nitp.ac.in']\n",
      "['manya.pandey217@gmail.com']\n",
      "['udhayan.e0420005@sret.edu.in']\n",
      "['studywithhinaa@gmail.com']\n",
      "['srishti21@iitk.a.in']\n",
      "['samhitha.se20@bmsce.ac.in']\n",
      "['20me01038@iitbbs.ac.in']\n",
      "['rahulkonar38@gmail.com']\n",
      "['jinit.jain@learner.manipal.edu']\n",
      "['varunverma356@gmail.com']\n",
      "['sidharthraman414@gmail.com']\n",
      "['azhaan.job786@gmail.com']\n",
      "['sudarshana22bal078@gnlu.ac.in']\n",
      "['vermapriyansha346@gmail.com']\n",
      "['archishaparmar@gmail.com']\n",
      "['yenisi1103@gmail.com']\n",
      "['sachchidananda13@gmail.com']\n",
      "['anushakamtikar@gmail.com']\n",
      "['rahma27s@mtholyoke.edu']\n",
      "['harshit23012@gmail.com']\n",
      "['anureetsandhu215@gmail.com']\n",
      "['mahirpatel@bjmcabd.edu.in']\n",
      "['up6276@srmist.edu.in']\n",
      "['chrisrozario048@gmail.com']\n",
      "['poojamksree@gmail.com']\n",
      "['sarasuzaansuresh.mec@gmail.com']\n",
      "['vedantpage2003@gmail.com']\n",
      "['vishalagarwal0501@gmail.com']\n",
      "['angelarajchadha@gmail.com']\n",
      "['kalantrivaishnavi3@gmail.com']\n",
      "['valappil.aadi@gmail.com']\n",
      "['dev.bhut28@gmail.com']\n",
      "['nitinjha1053@gmail.com']\n",
      "['kankit21@iitk.ac.in']\n",
      "['priyanshudhingra1@gmail.com']\n",
      "['itanjimshariyar@gmail.com']\n",
      "['sk46155@gmail.com']\n",
      "['shreyaforwork9@gmail.com']\n",
      "['angelarajchadha@gmail.com']\n",
      "['marce24w@mtholyoke.edu']\n",
      "['sahanagupta1998@gmail.com']\n",
      "['hg128@snu.edu.in']\n",
      "['nyi22y@mtholyoke.edu']\n",
      "['beatricengsw@gmail.com']\n",
      "['patralaltu91@gmail.com']\n",
      "['namangupta010904@gmail.com']\n",
      "['avnii.k02@gmail.com']\n",
      "['belindal@mit.edu']\n",
      "['nalawadesnehal11@gmail.com']\n",
      "['smileg978@gmail.com']\n",
      "['ssanchita911@gmail.com']\n",
      "['palak22344@iiird.ac.in']\n",
      "['sahmed4@conncoll.edu']\n",
      "['raavirana2007@gmail.com']\n",
      "['korada.vishal.phe22@itbhu.ac.in']\n",
      "['kotharianurima@gmail.com']\n",
      "['bhaswarnaman@gmail.com']\n",
      "['harshitupreti35@gmail.com']\n",
      "['snehaverma1403@gmail.com']\n",
      "['harshita0587.be21@chitkara.edu.in']\n",
      "['naveen96495123@gmail.com']\n",
      "['unnatikumari1000@gmail.com']\n",
      "['ria2210nix@gmail.com']\n",
      "['khetanvanshika20@gmail.com']\n",
      "['siddharth.prakash.bme21@itbhu.ac.in']\n",
      "['aantsingh26102002@gmail.com']\n",
      "['takshilaggarwal12345@gmail.com']\n",
      "['atharva.22010239@viit.ac.in']\n",
      "['gmchopra@wisc.edu']\n",
      "['vanshikagupta1289@gmail.com']\n",
      "['Khushigupta112003@gmail.com']\n",
      "['kratidivya2004@gmail.com']\n",
      "['pratyushprav33n@gmail.com']\n",
      "['patra.rajashree23@gmail.com']\n",
      "['suyashmkabra@gmail.com']\n",
      "['sohamjadhav2022.comp@mmcoe.edu.in']\n",
      "['pranav22366@iiitd.ac.in']\n",
      "['siyalalwani.wp@gmail.com']\n",
      "['mshreyashree@gmail.com']\n",
      "['sadiquemohd48@gmail.com']\n",
      "['rohitkelkar2006@gmail.com']\n",
      "['sadafsuhail14@gmail.com']\n",
      "['sarkarrick3456@gmail.com']\n",
      "['10marvedant.vt@gmail.com']\n",
      "['nikitaverma176@gmail.com']\n",
      "['aryank21@iitk.ac.in']\n",
      "['m23pm2007@iitj.ac.in']\n",
      "['anmul22n@mtholyoke.edu']\n",
      "['tutor.supriyam.edu@gmail.com']\n",
      "['mahir.azmol1613@gmail.com']\n",
      "['rajaniket2021@gmail.com']\n",
      "['pafemina.mec@gmail.com']\n",
      "['filzahkakul10@gmail.com']\n",
      "['vibhorjoshi40@gmail.com']\n",
      "['2020ag3494@uaf.edu.pk']\n",
      "['shivansh200511@gmail.com']\n",
      "['alishkarki2058@gmail.com']\n",
      "['vijval22569@iiitd.ac.in']\n",
      "['j.elsayed4213@su.edu.eg']\n",
      "['patrasandeep25@gmail.com']\n",
      "['yash.sachan.ece22@itbhu.ac.in']\n",
      "['rosutomy2001@gmail.com']\n",
      "['Satyamrishav0013@gmail.com']\n",
      "[]\n",
      "['f20212354@hyderabad.bits-pilani.ac.in']\n",
      "['lk7565@srmist.edu.in']\n",
      "['keren.chinaka@gmail.com']\n",
      "['varunsohanda50@gmail.com']\n",
      "['sahat.mahmud@connect.polyu.hk']\n",
      "['cakanksha199@gmail.com']\n",
      "['earnestiechidna@gmail.com']\n",
      "['amarjeetkumar2k22@gmail.com']\n",
      "['samarthbadgujar2@gmail.com']\n",
      "['lalit.j.lj@gmail.com']\n",
      "['hemalathaannadurai06@gmail.com']\n",
      "['821110@student.nitandhra.ac.in']\n",
      "['schar2@wisc.edu']\n",
      "['dev.bhut28Tech@gmail.com']\n",
      "['vishapraj22@iitk.ac.in']\n",
      "['mayankraj01.gaur@gmail.com']\n",
      "['ozmutlu@uni.minerva.edu']\n",
      "['ch.en.u4aie21117@ch.students.amrita.edu']\n",
      "['ankitk2002121@gmail.com']\n",
      "['deepu143gautam@gmail.com']\n",
      "['ap5508@srmist.edu.in']\n",
      "['arorashobhit1201@gmail.com']\n",
      "['gourab20koley@gmail.com']\n",
      "['jaskaran.0211@gmail.com']\n",
      "['pravi.18040@gmail.com']\n",
      "['pranjalsinghofficial@outlook.com']\n",
      "['Bhuskutelucky@gmail.com']\n",
      "['dharmatrivedi2003@gmail.com']\n",
      "['Bkeshav739@gmail.com']\n",
      "['2101020810@cgu-odisha.ac.in']\n",
      "['Vermillion.ankush@gmail.com']\n",
      "['co22a6_72@dtu.ac.in']\n",
      "['srs338@case.edu']\n",
      "['tahakash05@gmail.com']\n",
      "['sumaiyabinteimad@gmail.com']\n",
      "['rohitrajput08927@gmail.com']\n",
      "['mrigankm.bt.22@nitj.ac.in']\n",
      "['ganeshannce120@gst.sies.edu.in']\n",
      "['agrimasahni500@gmail.com']\n",
      "['djallan2021@gmail.com']\n",
      "['rebonto.haque@gmail.com']\n",
      "['lv8010@srmist.edu.in']\n",
      "['bukhari@uni.minerva.edu']\n",
      "['harishjrao615@gmail.com']\n",
      "['satyamgaikwad92@gmail.com']\n",
      "['dheerajbaiju501@gmail.com']\n",
      "['adarsh.phy21@iitg.ac.in']\n",
      "['soumojit048@kgpian.iitkgp.ac.in']\n",
      "['ayushpal0900@gmail.com']\n",
      "['a.dao@uni.minerva.edu']\n",
      "['pranav.jayanandan_ug25@ashoka.edu.in']\n",
      "['aviralsrivastava_ep20a5_42@dtu.ac.in']\n",
      "['william.minerva.1606@gmail.com']\n",
      "['montasirjim4656@gmail.com']\n",
      "['prathamesh9927@gmail.com']\n",
      "['aryangarg25112002@gmail.com']\n",
      "['pawnikhurana01@gmail.com']\n",
      "['siddhantbhardwaj47@gmail.com']\n",
      "['soniasatam@gmail.com']\n",
      "['riddhibhisikar2022@vitbhopal.ac.in']\n",
      "['taasmiahzaman@gmail.com']\n",
      "['radhahitesh601@gmail.com']\n",
      "['priyanshuk21@iitk.ac.in']\n",
      "['adityamani0805@gmail.com']\n",
      "['anshulm291@gmail.com']\n",
      "['guptajihimanshu55@gmail.com']\n",
      "['ashisscience@gmail.com']\n",
      "['apoorvyadav76@gmail.com']\n",
      "['ankamsriman@gmail.com']\n",
      "['shivangi05032000@gmail.com']\n",
      "['talktotulip10@gmail.com']\n",
      "['m23ph1016@iitj.ac.in']\n",
      "['01234aashish@gmail.com']\n",
      "['ntthomas289@gmail.com']\n",
      "['Jenvavaiya@gmail.com']\n",
      "['abhishek_s@mt.iitr.ac.in']\n",
      "['manshinehra016@gmail.com']\n",
      "['chaitanyasonkusare00@gmail.com']\n",
      "['200030011@iitdh.ac.in']\n",
      "['maninichhabra2022@vitbhopal.ac.in']\n",
      "['Vridhikhanna1084@gmail.com']\n",
      "['Vishnukumarraj414@gmail.com']\n",
      "['devahmadhero@gmail.com']\n",
      "['f20212785@pilani.bits-pilani.ac.in']\n",
      "['ojhashelly26@gmail.com']\n",
      "['nandanchowdhury25@gmail.com']\n",
      "['atharva.bhawsar.21063@iitgoa.ac.in']\n",
      "['adubey7@wisc.edu']\n",
      "['supratimdas290404@gmail.com']\n",
      "['rjadhav@arizona.edu']\n",
      "['hiya088btit21@igdtuw.ac.in']\n",
      "['harsh.san.ahire@gmail.com']\n",
      "['vaibhav.209301028@muj.manipal.edu']\n",
      "['singhvikash7077@gmail.com']\n",
      "['baliaaryan6123@gmail.com']\n",
      "['chintamanij213@gmail.com']\n",
      "['navyaabrol.23@gmail.com']\n",
      "['nikhil0080012005@gmail.com']\n",
      "['a.kanagalekar@iitg.ac.in']\n",
      "['nishant.tiwari1407@gmail.com']\n",
      "['suyashpundir1404@gmail.com']\n",
      "['srivabhi22@iitk.ac.in']\n",
      "['anaghakrishnaprasad2007@gmail.com']\n",
      "['211184@juitsolan.in']\n",
      "['avibansal2003@gmail.com']\n",
      "['ankitawork26@gmail.com']\n",
      "['itsharleen17@gmail.com']\n",
      "['avneetsidhu18@gmail.com']\n",
      "['helly.dhamesha2020@vitstudent.ac.in']\n",
      "['ashutoshmishra1317@gmail.com']\n",
      "['shekhar888700@gmail.com']\n",
      "['akshatsaraswat1234@gmail.com']\n",
      "['ukjag2000@gmail.com']\n",
      "['awareindia12@gmail.com']\n",
      "['pratik171101.23@gmail.com']\n",
      "['aditya.eddy627@gmail.com']\n",
      "['tathgir@wisc.edu']\n",
      "['dhanashreedc458@gmail.com']\n",
      "['astitva.nitr25@gmail.com']\n",
      "['revanth.ayitha21@ngit.edu.in']\n",
      "['23f3000625@ds.study.iitm.ac.in']\n",
      "['shridhanush2003@gmail.com']\n",
      "['dharamnath.espdx@gmail.com']\n",
      "['konardipanjan@gmail.com']\n",
      "['apoorva030btcsai22@igdtuw.ac.in']\n",
      "['ishita.saha@learner.manipal.edu']\n",
      "['sanidhya26io053@satiengg.in']\n",
      "['kashyapisatra2@gmail.com']\n",
      "['utkarshparihar3367@gmail.com']\n",
      "['shivam.klt77@gmail.com']\n",
      "['od114@snu.edu.in']\n",
      "['anikets21@iitk.ac.in']\n",
      "['Syedkashifanam@gmail.com']\n",
      "['Love.gupta2464@gmail.com']\n",
      "['Kanishkagangania9@gmail.com']\n",
      "['sambhavjain_pe22b14_41@dtu.ac.in']\n",
      "['024nish@gmail.com']\n",
      "['jhaarya1002@gmail.com']\n",
      "['bebeshtripathy34@gmail.com']\n",
      "['bansalsheersh9997@gmail.com']\n",
      "['akankchasingh20012004@gmail.com']\n",
      "['djeong@college.harvard.edu']\n",
      "['shefali114bteceai22@igdtuw.ac.in']\n",
      "['3002aarzoo@gmail.com']\n",
      "['jeevika077bteceai21@igdtuw.ac.in']\n",
      "['rastogikashish984@gmail.com']\n",
      "['monika076bteceai22@igdtuw.ac.in']\n",
      "['pranitapp1587@gmail.com']\n",
      "['jaskaran22227@iiitd.ac.in']\n",
      "['ankushydv17@gmail.com']\n",
      "['tanishqagupta9826@gmail.com']\n",
      "['anit.sarkar.23@aot.edu.in']\n",
      "['chakr25p@mtholyoke.edu']\n",
      "['paramhanssingh084@gmail.com']\n",
      "['drishaan.prasad@learner.manipal.edu']\n",
      "['adikanneti05@gmail.com']\n",
      "['patilsankalp2001@gmail.com']\n",
      "['ayamullahkhan04@gmail.com']\n",
      "['anish.javvadi@gmail.com']\n",
      "['f20201377@pilani.bits-pilani.ac.in']\n",
      "['f20212416@pilani.bits-pilani.ac.in']\n",
      "['f20212570@pilani.bits-pilani.ac.in']\n",
      "['trigya.dhir_ug2023@ashoka.edu.in']\n",
      "['trigya.dhir_ug2023@ashoka.edu.in']\n",
      "['saniyasood757@gmail.com']\n",
      "['Pg696@snu.edu.in']\n",
      "['f20201469@pilani.bits-pilani.ac.in']\n",
      "['adrikamishra_2k21bd012@dtu.ac.in']\n",
      "['f20230796@goa.bits-pilani.ac.in']\n",
      "['f20220297@goa.bits-pilani.ac.in']\n",
      "['f20200926@pilani.bits-pilani.ac.in']\n",
      "['b221064@iiit-bh.ac.in']\n",
      "['mdinesh@kgpian.iitkgp.ac.in']\n",
      "['mik22@hampshire.edu']\n",
      "['pranavmadiraju35150@gmail.com']\n",
      "['kmmittal@wisc.edu']\n",
      "['Jayati2114502700@mujonline.edu.in']\n",
      "['Chetankhandait16@gmail.com']\n",
      "['prakharsinghchouhan21@gmail.com']\n",
      "['112115111@cse.iiitp.ac.in']\n",
      "['arnavjain5246@gmail.com']\n",
      "['akanksha.verma2020@vitbhopal.ac.in']\n",
      "['raahilsheikh711@gmail.com']\n",
      "['morakhiadhimant@gmail.com']\n",
      "['kanishkakannan484@gmail.com']\n",
      "['priyanshuhota.ph@gmail.com']\n",
      "['nisha0812gupta@gmail.com']\n",
      "['amartyakumardev@gmail.com']\n",
      "['parthkaria72@gmail.com']\n",
      "['abhishekrawal2017@gmail.com']\n",
      "['sohalibaisla19@gmail.com']\n",
      "['talk2osseephraim@gmail.com']\n",
      "['priyanjanmitra@gmail.com']\n",
      "['f20200078@pilani.bits-pilani.ac.in']\n",
      "['samridhinandwani_2k21bd083@dtu.ac.in']\n",
      "['aadeshtaneja@umass.edu', 'aadesh47taneja@gmail.com']\n",
      "['Manshaa.dhar@gmail.com']\n",
      "['chinmaynakwa29012005@gmail.com']\n",
      "['kunalsingla009@gmail.com', '21bcs9173@cuchd.in']\n",
      "['meetkapoor998@gmail.com']\n",
      "['anany.3007@gmail.com']\n",
      "['ishani.b218@gmail.com']\n",
      "['nirdeshdevadiya17@gmail.com']\n",
      "['shashankkatiyar2527@gmail.com']\n",
      "['vishnusaiteja.3004@gmail.com']\n",
      "['akshatsingh@arizona.edu']\n",
      "['parmehta157489@gmail.com']\n",
      "['kushagraagarwal525.ka@gmail.com']\n",
      "['divyab2912@gmail.com']\n",
      "['divyab2912@gmail.com']\n",
      "['punit9572574627@gmail.com']\n",
      "['yashashree.bedmutha@gmail.com']\n",
      "['sotu1996@gmail.com']\n",
      "['guptuv2003@gmail.com']\n",
      "['pandeyvashisth3@gmail.com']\n",
      "['arnesh23129@iiitd.ac.in']\n",
      "['contact@supriyopal.me']\n",
      "['jahnavikari1203@gmail.com']\n",
      "['kaushik.prabhudessai16@nitgoa.ac.in']\n",
      "['sy5952832@gmail.com']\n",
      "[]\n",
      "[]\n",
      "[]\n",
      "['thapaksanskriti@gmail.com']\n",
      "['souritra.kar@Gmail.com']\n",
      "['divyansh.singh.eee22@itbhu.ac.in']\n",
      "['miah-safwan.abdal@connect.polyu.hk']\n",
      "['khushwantgautam_2k21bd051@dtu.ac.in']\n",
      "['shamchunarkar@gmail.com', 'anjishc2025@misp.org']\n",
      "['bt23ece015@iiitn.ac.in']\n",
      "['shadrackbenjamin99@gmail.com']\n",
      "['pooraniayswariya03@gmail.com']\n",
      "['debnathsanju4803@gmail.com']\n",
      "['ayeshashaikh2048@gmail.com']\n",
      "['amandas62640@gmail.com']\n",
      "['21bec011@nirmauni.ac.in']\n",
      "['mahim.g03@gmail.com']\n",
      "['rishirajprajapati_ee22b17_60@dtu.ac.in']\n",
      "['fadila20061@gmail.com']\n",
      "['anshulg1502@gmail.com']\n",
      "['nathanlalvares03@gmail.com']\n",
      "['ansariarmanwxy@gmail.com']\n",
      "['kgandhi4@wisc.edu']\n",
      "['rahul21555@iiitd.ac.in']\n",
      "['vkapoor5@wic.edu']\n",
      "['w21365428@student.hccs.edu']\n",
      "['Zarmeenrashid51214@gmail.com']\n",
      "['seemant.singh.bme21@itbhu.ac.in']\n",
      "['shrikantkshirsagar66@gmail.com']\n",
      "['aanchal.karnani2002@gmail.com']\n",
      "['bscs20063@itu.edu.pk']\n",
      "['aryanyshah18@gmail.com']\n",
      "['shivampal7405@nitgoa.ac.in']\n",
      "['gdscmsit17@gmail.com']\n",
      "['nalawalaq@gmail.com']\n",
      "['bjakhet@rockets.utoledo.edu']\n",
      "['kazigalib143@gmail.com']\n",
      "['phbstudy@gmail.com']\n",
      "['dk2030965@gmail.com']\n",
      "['arijitmandal36@gmail.com']\n",
      "['arijitmandal36@gmail.com']\n",
      "['talhapirzada2004@gmail.com']\n",
      "['raovenkatesh513@gmail.com']\n",
      "['adityavg1005@gmail.com']\n",
      "['sharmaarshiya1@gmail.com']\n",
      "['sahu1305jhs@gmail.com']\n",
      "['souravhut200@gmail.com']\n",
      "['anaviwattal2004@gmail.com']\n",
      "['moessnerm@uchicago.edu']\n",
      "['syedanser03@gmail.com']\n",
      "['jihan.kapur@gmail.com']\n",
      "['padmapriyar02@gmail.com']\n",
      "['ranjeshroy97099@gmail.com']\n",
      "['lipikaarya1723@gmail.com']\n",
      "['ayush.mandal2025@gmail.com']\n",
      "['leandervaz2003@nitgoa.ac.in']\n",
      "['f20211510@pilani.bits-pilani.ac.in']\n",
      "['lochanmangal586@gmail.com']\n",
      "['divyaagg830@gmail.com']\n",
      "['ritvikdhawe32@gmail.com']\n",
      "['F20220260@pilani.bits-pilani.ac.in']\n",
      "['spkeshav3114@gmail.com']\n",
      "[]\n",
      "['gaikirohan@gmail.com']\n",
      "['nalanbaburaj06@gmail.com']\n",
      "['preenamakkaracademic@gmail.com']\n",
      "['anishayadav543@gmail.com']\n",
      "['gitikadetects@gmail.com']\n",
      "['khandelwaljhalak3@gmail.com']\n",
      "['abdrlila@gmail.com']\n",
      "['arin2003mahapatro@gmail.com']\n",
      "['deba9862@gmail.com']\n",
      "['Hr6301@dseu.ac.in']\n",
      "['Srishti19bhargava@gmail.com']\n",
      "['aniketsabar25@gmail.com']\n",
      "['Dorothysenha@gmail.com']\n",
      "['varda.hanwant03@gmail.com']\n",
      "['shivam.chaudhary5396@gmail.com']\n",
      "['Cepheus4510@gmail.com']\n",
      "['krishajagdishchandnani@gmail.com']\n",
      "['jpreksha2002@gmail.com']\n",
      "['niharikadamodaran@gmail.com']\n",
      "['astitva2810@gmail.com']\n",
      "['shrouksweid23@gmail.com']\n",
      "['nachiketh.nadig@gmail.com']\n",
      "['stuti.iyer16@gmail.com']\n",
      "[]\n",
      "['govindofficial82@gmail.com']\n",
      "['divyadaiya2911@gmail.com']\n",
      "['zeel0725@gmail.com']\n",
      "['parched_whoever440@simplelogin.com']\n",
      "['Halffilled18@gmail.com']\n",
      "['Nainarastogi811@gmail.com']\n",
      "['b21043@students.iitmandi.ac.in']\n",
      "['balasaisrujan273@gmail.com']\n",
      "['suryanshupadhyay75@gmail.com']\n",
      "['f20213000@goa.bits-pilani.ac.in']\n",
      "['umasrishiva36@gmail.com']\n",
      "['prakritishree027@gmail.com']\n",
      "['saikishormd2021@gmail.com']\n",
      "['rupam.dusane@s.amity.edu']\n",
      "['sravyreddy8@gmail.com']\n",
      "['disha.20223087@mnnit.ac.in']\n",
      "[]\n",
      "['mehsamho@gmail.com']\n",
      "['meghashruti2022@vitbhopal.ac.in']\n",
      "['f20212781@pilani.bits-pilani.ac.in']\n",
      "['ruchikaajay5@gmail.com']\n",
      "['burhanac786@gmail.com']\n",
      "['as2728@srmist.edu.in']\n",
      "[]\n",
      "['wonkkas04@gmail.com']\n",
      "['amritheshkakkoth@gmail.com']\n",
      "['tanayamahalanabis113@gmail.com']\n",
      "['kmanish1773@gmail.com']\n",
      "['farithbrave555@gmail.com']\n",
      "['suyashkumarbhagat01@gmail.com']\n",
      "['vatsallahoti@gmail.com']\n",
      "['imailtokumarvishal@gmail.com']\n",
      "['bhaviks@iitbhilai.ac.in']\n",
      "['mihirpandey9999@gmail.com']\n",
      "['kanikabishtwork@gmail.com']\n",
      "['aabidibrahim2004@gmail.com']\n",
      "['premani.premani@gmail.com']\n",
      "['ehrazashraf@gmail.com']\n",
      "['ishitamoitra.kly@gmail.com']\n",
      "['srinjoydev26@gmail.com']\n",
      "['mail2umarss@gmail.com']\n",
      "['pranjulnigam15@gmail.com']\n",
      "['rahulkushwaha2506@gmail.com']\n",
      "['hemasagarg1@gmail.com']\n",
      "[]\n"
     ]
    }
   ],
   "source": [
    "no_of_comments = len(emails)\n",
    "for i in range(no_of_comments):\n",
    "    # print(re.findall(\"([a-zA-Z0-9_.+-]+@[a-zA-Z0-9-]+\\.[a-zA-Z0-9-.]+)\", emails[i].text)[0])\n",
    "    print(re.findall(\"([a-zA-Z0-9_.+-]+@[a-zA-Z0-9-]+\\.[a-zA-Z0-9-.]+)\", emails[i].text))"
   ]
  },
  {
   "cell_type": "markdown",
   "metadata": {},
   "source": [
    "#### 6. Appending the extracted data to different lists"
   ]
  },
  {
   "cell_type": "code",
   "execution_count": 33,
   "metadata": {},
   "outputs": [],
   "source": [
    "nameList = []\n",
    "emailList = []\n",
    "headlineList = []\n",
    "\n",
    "\n",
    "for i in range(no_of_comments):\n",
    "    \n",
    "    try:\n",
    "    \n",
    "        emailList.append(re.findall(\"([a-zA-Z0-9_.+-]+@[a-zA-Z0-9-]+\\.[a-zA-Z0-9-.]+)\", emails[i].text)[0])\n",
    "\n",
    "        nameList.append((name[i].text).split(\"\\n\")[0])\n",
    "    \n",
    "        headlineList.append(headline[i].text)\n",
    "    \n",
    "    except:\n",
    "        pass\n",
    "\n"
   ]
  },
  {
   "cell_type": "markdown",
   "metadata": {},
   "source": [
    "#### 7. Converting the list to pd.DataFrame "
   ]
  },
  {
   "cell_type": "code",
   "execution_count": 34,
   "metadata": {},
   "outputs": [],
   "source": [
    "# intialise data of lists.\n",
    "data = {'Name':nameList,\n",
    "        'E-mails': emailList,\n",
    "        'Headline':headlineList}\n",
    "\n",
    "# Create DataFrame\n",
    "df = pd.DataFrame(data)"
   ]
  },
  {
   "cell_type": "markdown",
   "metadata": {},
   "source": [
    "#### 8. Overview of the DataFrame"
   ]
  },
  {
   "cell_type": "code",
   "execution_count": 35,
   "metadata": {},
   "outputs": [
    {
     "data": {
      "text/html": [
       "<div>\n",
       "<style scoped>\n",
       "    .dataframe tbody tr th:only-of-type {\n",
       "        vertical-align: middle;\n",
       "    }\n",
       "\n",
       "    .dataframe tbody tr th {\n",
       "        vertical-align: top;\n",
       "    }\n",
       "\n",
       "    .dataframe thead th {\n",
       "        text-align: right;\n",
       "    }\n",
       "</style>\n",
       "<table border=\"1\" class=\"dataframe\">\n",
       "  <thead>\n",
       "    <tr style=\"text-align: right;\">\n",
       "      <th></th>\n",
       "      <th>Name</th>\n",
       "      <th>E-mails</th>\n",
       "      <th>Headline</th>\n",
       "    </tr>\n",
       "  </thead>\n",
       "  <tbody>\n",
       "    <tr>\n",
       "      <th>0</th>\n",
       "      <td>Krishan Walia</td>\n",
       "      <td>krishanw30@gmail.com</td>\n",
       "      <td>Experienced in ML and AI | Full Stack Develope...</td>\n",
       "    </tr>\n",
       "    <tr>\n",
       "      <th>1</th>\n",
       "      <td>Atharv Kumar Singh</td>\n",
       "      <td>atharvkumarsingh_bt21b2_13@dtu.ac.in</td>\n",
       "      <td>Data Analyst | Web Developer | Volunteer Leade...</td>\n",
       "    </tr>\n",
       "    <tr>\n",
       "      <th>2</th>\n",
       "      <td>Bovas Abraham</td>\n",
       "      <td>bovascherian@gmail.com</td>\n",
       "      <td>Student at St. Berchmans College</td>\n",
       "    </tr>\n",
       "    <tr>\n",
       "      <th>3</th>\n",
       "      <td>Aviral Srivastava</td>\n",
       "      <td>aviral.s@iitg.ac.in</td>\n",
       "      <td>Student at Indian Institute of Technology, Guw...</td>\n",
       "    </tr>\n",
       "    <tr>\n",
       "      <th>4</th>\n",
       "      <td>Dhruv Khare</td>\n",
       "      <td>dhruvkhare148@gmail.com</td>\n",
       "      <td>CS Major at NSUT'Delhi | Entrepreneurship and ...</td>\n",
       "    </tr>\n",
       "    <tr>\n",
       "      <th>...</th>\n",
       "      <td>...</td>\n",
       "      <td>...</td>\n",
       "      <td>...</td>\n",
       "    </tr>\n",
       "    <tr>\n",
       "      <th>514</th>\n",
       "      <td>AABID IBRAHIM S</td>\n",
       "      <td>srinjoydev26@gmail.com</td>\n",
       "      <td>--</td>\n",
       "    </tr>\n",
       "    <tr>\n",
       "      <th>515</th>\n",
       "      <td>DHRUV PREMANI</td>\n",
       "      <td>mail2umarss@gmail.com</td>\n",
       "      <td>Economics Graduate</td>\n",
       "    </tr>\n",
       "    <tr>\n",
       "      <th>516</th>\n",
       "      <td>Ehraz Ashraf</td>\n",
       "      <td>pranjulnigam15@gmail.com</td>\n",
       "      <td>Developing with React</td>\n",
       "    </tr>\n",
       "    <tr>\n",
       "      <th>517</th>\n",
       "      <td>Ishita Moitra</td>\n",
       "      <td>rahulkushwaha2506@gmail.com</td>\n",
       "      <td>Student at MIT ADT University</td>\n",
       "    </tr>\n",
       "    <tr>\n",
       "      <th>518</th>\n",
       "      <td>Srinjoy Pati</td>\n",
       "      <td>hemasagarg1@gmail.com</td>\n",
       "      <td>--</td>\n",
       "    </tr>\n",
       "  </tbody>\n",
       "</table>\n",
       "<p>519 rows × 3 columns</p>\n",
       "</div>"
      ],
      "text/plain": [
       "                   Name                               E-mails  \\\n",
       "0         Krishan Walia                  krishanw30@gmail.com   \n",
       "1    Atharv Kumar Singh  atharvkumarsingh_bt21b2_13@dtu.ac.in   \n",
       "2         Bovas Abraham                bovascherian@gmail.com   \n",
       "3     Aviral Srivastava                   aviral.s@iitg.ac.in   \n",
       "4           Dhruv Khare               dhruvkhare148@gmail.com   \n",
       "..                  ...                                   ...   \n",
       "514     AABID IBRAHIM S                srinjoydev26@gmail.com   \n",
       "515       DHRUV PREMANI                 mail2umarss@gmail.com   \n",
       "516        Ehraz Ashraf              pranjulnigam15@gmail.com   \n",
       "517       Ishita Moitra           rahulkushwaha2506@gmail.com   \n",
       "518        Srinjoy Pati                 hemasagarg1@gmail.com   \n",
       "\n",
       "                                              Headline  \n",
       "0    Experienced in ML and AI | Full Stack Develope...  \n",
       "1    Data Analyst | Web Developer | Volunteer Leade...  \n",
       "2                     Student at St. Berchmans College  \n",
       "3    Student at Indian Institute of Technology, Guw...  \n",
       "4    CS Major at NSUT'Delhi | Entrepreneurship and ...  \n",
       "..                                                 ...  \n",
       "514                                                 --  \n",
       "515                                 Economics Graduate  \n",
       "516                              Developing with React  \n",
       "517                      Student at MIT ADT University  \n",
       "518                                                 --  \n",
       "\n",
       "[519 rows x 3 columns]"
      ]
     },
     "execution_count": 35,
     "metadata": {},
     "output_type": "execute_result"
    }
   ],
   "source": [
    "df"
   ]
  },
  {
   "cell_type": "markdown",
   "metadata": {},
   "source": [
    "__NOTE__: Kindly don't use this data for something illegal."
   ]
  },
  {
   "cell_type": "markdown",
   "metadata": {},
   "source": [
    "#### 9. Saving the .csv file of the DataFrame"
   ]
  },
  {
   "cell_type": "code",
   "execution_count": 36,
   "metadata": {},
   "outputs": [],
   "source": [
    "df.to_csv('INTERNATIONAL_RESEARCH_LIST.csv', mode='w')"
   ]
  },
  {
   "cell_type": "code",
   "execution_count": null,
   "metadata": {},
   "outputs": [],
   "source": []
  }
 ],
 "metadata": {
  "kernelspec": {
   "display_name": "Python 3",
   "language": "python",
   "name": "python3"
  },
  "language_info": {
   "codemirror_mode": {
    "name": "ipython",
    "version": 3
   },
   "file_extension": ".py",
   "mimetype": "text/x-python",
   "name": "python",
   "nbconvert_exporter": "python",
   "pygments_lexer": "ipython3",
   "version": "3.9.19"
  }
 },
 "nbformat": 4,
 "nbformat_minor": 4
}
