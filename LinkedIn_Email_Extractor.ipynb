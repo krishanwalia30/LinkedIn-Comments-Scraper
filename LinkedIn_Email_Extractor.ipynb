{
 "cells": [
  {
   "cell_type": "code",
   "execution_count": 2,
   "metadata": {},
   "outputs": [
    {
     "name": "stdout",
     "output_type": "stream",
     "text": [
      "Collecting seleniumNote: you may need to restart the kernel to use updated packages.\n",
      "\n",
      "  Downloading selenium-4.18.1-py3-none-any.whl.metadata (6.9 kB)\n",
      "Collecting urllib3<3,>=1.26 (from urllib3[socks]<3,>=1.26->selenium)\n",
      "  Using cached urllib3-2.2.1-py3-none-any.whl.metadata (6.4 kB)\n",
      "Collecting trio~=0.17 (from selenium)\n",
      "  Downloading trio-0.25.0-py3-none-any.whl.metadata (8.7 kB)\n",
      "Collecting trio-websocket~=0.9 (from selenium)\n",
      "  Downloading trio_websocket-0.11.1-py3-none-any.whl.metadata (4.7 kB)\n",
      "Collecting certifi>=2021.10.8 (from selenium)\n",
      "  Using cached certifi-2024.2.2-py3-none-any.whl.metadata (2.2 kB)\n",
      "Requirement already satisfied: typing_extensions>=4.9.0 in d:\\machine_learning\\steel-plate-defect-prediction\\spd\\lib\\site-packages (from selenium) (4.10.0)\n",
      "Collecting attrs>=23.2.0 (from trio~=0.17->selenium)\n",
      "  Using cached attrs-23.2.0-py3-none-any.whl.metadata (9.5 kB)\n",
      "Collecting sortedcontainers (from trio~=0.17->selenium)\n",
      "  Downloading sortedcontainers-2.4.0-py2.py3-none-any.whl.metadata (10 kB)\n",
      "Collecting idna (from trio~=0.17->selenium)\n",
      "  Using cached idna-3.6-py3-none-any.whl.metadata (9.9 kB)\n",
      "Collecting outcome (from trio~=0.17->selenium)\n",
      "  Downloading outcome-1.3.0.post0-py2.py3-none-any.whl.metadata (2.6 kB)\n",
      "Collecting sniffio>=1.3.0 (from trio~=0.17->selenium)\n",
      "  Downloading sniffio-1.3.1-py3-none-any.whl.metadata (3.9 kB)\n",
      "Collecting cffi>=1.14 (from trio~=0.17->selenium)\n",
      "  Using cached cffi-1.16.0-cp39-cp39-win_amd64.whl.metadata (1.5 kB)\n",
      "Requirement already satisfied: exceptiongroup in d:\\machine_learning\\steel-plate-defect-prediction\\spd\\lib\\site-packages (from trio~=0.17->selenium) (1.2.0)\n",
      "Collecting wsproto>=0.14 (from trio-websocket~=0.9->selenium)\n",
      "  Downloading wsproto-1.2.0-py3-none-any.whl.metadata (5.6 kB)\n",
      "Collecting pysocks!=1.5.7,<2.0,>=1.5.6 (from urllib3[socks]<3,>=1.26->selenium)\n",
      "  Downloading PySocks-1.7.1-py3-none-any.whl.metadata (13 kB)\n",
      "Collecting pycparser (from cffi>=1.14->trio~=0.17->selenium)\n",
      "  Using cached pycparser-2.21-py2.py3-none-any.whl.metadata (1.1 kB)\n",
      "Collecting h11<1,>=0.9.0 (from wsproto>=0.14->trio-websocket~=0.9->selenium)\n",
      "  Downloading h11-0.14.0-py3-none-any.whl.metadata (8.2 kB)\n",
      "Downloading selenium-4.18.1-py3-none-any.whl (10.0 MB)\n",
      "   ---------------------------------------- 0.0/10.0 MB ? eta -:--:--\n",
      "   ---------------------------------------- 0.0/10.0 MB ? eta -:--:--\n",
      "   ---------------------------------------- 0.1/10.0 MB 1.1 MB/s eta 0:00:10\n",
      "    --------------------------------------- 0.2/10.0 MB 1.3 MB/s eta 0:00:08\n",
      "   - -------------------------------------- 0.3/10.0 MB 1.4 MB/s eta 0:00:08\n",
      "   - -------------------------------------- 0.4/10.0 MB 1.9 MB/s eta 0:00:06\n",
      "   - -------------------------------------- 0.5/10.0 MB 1.7 MB/s eta 0:00:06\n",
      "   -- ------------------------------------- 0.7/10.0 MB 2.1 MB/s eta 0:00:05\n",
      "   --- ------------------------------------ 0.8/10.0 MB 2.1 MB/s eta 0:00:05\n",
      "   --- ------------------------------------ 1.0/10.0 MB 2.3 MB/s eta 0:00:04\n",
      "   ---- ----------------------------------- 1.1/10.0 MB 2.5 MB/s eta 0:00:04\n",
      "   ----- ---------------------------------- 1.3/10.0 MB 2.5 MB/s eta 0:00:04\n",
      "   ----- ---------------------------------- 1.4/10.0 MB 2.6 MB/s eta 0:00:04\n",
      "   ------ --------------------------------- 1.5/10.0 MB 2.6 MB/s eta 0:00:04\n",
      "   ------ --------------------------------- 1.6/10.0 MB 2.6 MB/s eta 0:00:04\n",
      "   ------ --------------------------------- 1.7/10.0 MB 2.6 MB/s eta 0:00:04\n",
      "   ------- -------------------------------- 1.9/10.0 MB 2.7 MB/s eta 0:00:04\n",
      "   -------- ------------------------------- 2.0/10.0 MB 2.7 MB/s eta 0:00:04\n",
      "   -------- ------------------------------- 2.1/10.0 MB 2.7 MB/s eta 0:00:03\n",
      "   --------- ------------------------------ 2.3/10.0 MB 2.7 MB/s eta 0:00:03\n",
      "   --------- ------------------------------ 2.4/10.0 MB 2.7 MB/s eta 0:00:03\n",
      "   ---------- ----------------------------- 2.6/10.0 MB 2.7 MB/s eta 0:00:03\n",
      "   ---------- ----------------------------- 2.7/10.0 MB 2.7 MB/s eta 0:00:03\n",
      "   ----------- ---------------------------- 2.8/10.0 MB 2.7 MB/s eta 0:00:03\n",
      "   ----------- ---------------------------- 2.9/10.0 MB 2.7 MB/s eta 0:00:03\n",
      "   ------------ --------------------------- 3.0/10.0 MB 2.7 MB/s eta 0:00:03\n",
      "   ------------ --------------------------- 3.2/10.0 MB 2.7 MB/s eta 0:00:03\n",
      "   ------------- -------------------------- 3.3/10.0 MB 2.7 MB/s eta 0:00:03\n",
      "   ------------- -------------------------- 3.4/10.0 MB 2.7 MB/s eta 0:00:03\n",
      "   ------------- -------------------------- 3.5/10.0 MB 2.7 MB/s eta 0:00:03\n",
      "   -------------- ------------------------- 3.6/10.0 MB 2.7 MB/s eta 0:00:03\n",
      "   -------------- ------------------------- 3.7/10.0 MB 2.6 MB/s eta 0:00:03\n",
      "   --------------- ------------------------ 3.8/10.0 MB 2.6 MB/s eta 0:00:03\n",
      "   --------------- ------------------------ 4.0/10.0 MB 2.7 MB/s eta 0:00:03\n",
      "   ---------------- ----------------------- 4.1/10.0 MB 2.7 MB/s eta 0:00:03\n",
      "   ---------------- ----------------------- 4.2/10.0 MB 2.7 MB/s eta 0:00:03\n",
      "   ----------------- ---------------------- 4.3/10.0 MB 2.7 MB/s eta 0:00:03\n",
      "   ------------------ --------------------- 4.5/10.0 MB 2.7 MB/s eta 0:00:03\n",
      "   ------------------ --------------------- 4.6/10.0 MB 2.7 MB/s eta 0:00:02\n",
      "   ------------------- -------------------- 4.8/10.0 MB 2.7 MB/s eta 0:00:02\n",
      "   ------------------- -------------------- 4.9/10.0 MB 2.7 MB/s eta 0:00:02\n",
      "   ------------------- -------------------- 5.0/10.0 MB 2.7 MB/s eta 0:00:02\n",
      "   -------------------- ------------------- 5.1/10.0 MB 2.7 MB/s eta 0:00:02\n",
      "   -------------------- ------------------- 5.2/10.0 MB 2.7 MB/s eta 0:00:02\n",
      "   --------------------- ------------------ 5.4/10.0 MB 2.7 MB/s eta 0:00:02\n",
      "   --------------------- ------------------ 5.4/10.0 MB 2.7 MB/s eta 0:00:02\n",
      "   ---------------------- ----------------- 5.6/10.0 MB 2.7 MB/s eta 0:00:02\n",
      "   ---------------------- ----------------- 5.7/10.0 MB 2.7 MB/s eta 0:00:02\n",
      "   ----------------------- ---------------- 5.8/10.0 MB 2.7 MB/s eta 0:00:02\n",
      "   ----------------------- ---------------- 5.9/10.0 MB 2.6 MB/s eta 0:00:02\n",
      "   ------------------------ --------------- 6.0/10.0 MB 2.6 MB/s eta 0:00:02\n",
      "   ------------------------ --------------- 6.1/10.0 MB 2.6 MB/s eta 0:00:02\n",
      "   ------------------------ --------------- 6.2/10.0 MB 2.6 MB/s eta 0:00:02\n",
      "   ------------------------- -------------- 6.3/10.0 MB 2.6 MB/s eta 0:00:02\n",
      "   ------------------------- -------------- 6.4/10.0 MB 2.6 MB/s eta 0:00:02\n",
      "   ------------------------- -------------- 6.5/10.0 MB 2.6 MB/s eta 0:00:02\n",
      "   -------------------------- ------------- 6.6/10.0 MB 2.6 MB/s eta 0:00:02\n",
      "   -------------------------- ------------- 6.6/10.0 MB 2.5 MB/s eta 0:00:02\n",
      "   -------------------------- ------------- 6.7/10.0 MB 2.5 MB/s eta 0:00:02\n",
      "   --------------------------- ------------ 6.8/10.0 MB 2.5 MB/s eta 0:00:02\n",
      "   --------------------------- ------------ 6.8/10.0 MB 2.5 MB/s eta 0:00:02\n",
      "   --------------------------- ------------ 6.9/10.0 MB 2.5 MB/s eta 0:00:02\n",
      "   --------------------------- ------------ 7.0/10.0 MB 2.5 MB/s eta 0:00:02\n",
      "   ---------------------------- ----------- 7.1/10.0 MB 2.5 MB/s eta 0:00:02\n",
      "   ---------------------------- ----------- 7.2/10.0 MB 2.4 MB/s eta 0:00:02\n",
      "   ----------------------------- ---------- 7.3/10.0 MB 2.4 MB/s eta 0:00:02\n",
      "   ----------------------------- ---------- 7.4/10.0 MB 2.4 MB/s eta 0:00:02\n",
      "   ----------------------------- ---------- 7.4/10.0 MB 2.4 MB/s eta 0:00:02\n",
      "   ----------------------------- ---------- 7.5/10.0 MB 2.4 MB/s eta 0:00:02\n",
      "   ------------------------------ --------- 7.6/10.0 MB 2.4 MB/s eta 0:00:02\n",
      "   ------------------------------ --------- 7.7/10.0 MB 2.4 MB/s eta 0:00:01\n",
      "   ------------------------------- -------- 7.8/10.0 MB 2.4 MB/s eta 0:00:01\n",
      "   ------------------------------- -------- 7.9/10.0 MB 2.4 MB/s eta 0:00:01\n",
      "   ------------------------------- -------- 8.0/10.0 MB 2.4 MB/s eta 0:00:01\n",
      "   -------------------------------- ------- 8.1/10.0 MB 2.4 MB/s eta 0:00:01\n",
      "   -------------------------------- ------- 8.2/10.0 MB 2.4 MB/s eta 0:00:01\n",
      "   --------------------------------- ------ 8.3/10.0 MB 2.4 MB/s eta 0:00:01\n",
      "   --------------------------------- ------ 8.3/10.0 MB 2.4 MB/s eta 0:00:01\n",
      "   --------------------------------- ------ 8.4/10.0 MB 2.4 MB/s eta 0:00:01\n",
      "   ---------------------------------- ----- 8.5/10.0 MB 2.4 MB/s eta 0:00:01\n",
      "   ---------------------------------- ----- 8.6/10.0 MB 2.4 MB/s eta 0:00:01\n",
      "   ---------------------------------- ----- 8.7/10.0 MB 2.3 MB/s eta 0:00:01\n",
      "   ----------------------------------- ---- 8.8/10.0 MB 2.3 MB/s eta 0:00:01\n",
      "   ----------------------------------- ---- 8.9/10.0 MB 2.3 MB/s eta 0:00:01\n",
      "   ----------------------------------- ---- 9.0/10.0 MB 2.3 MB/s eta 0:00:01\n",
      "   ------------------------------------ --- 9.0/10.0 MB 2.3 MB/s eta 0:00:01\n",
      "   ------------------------------------ --- 9.1/10.0 MB 2.3 MB/s eta 0:00:01\n",
      "   ------------------------------------ --- 9.2/10.0 MB 2.3 MB/s eta 0:00:01\n",
      "   ------------------------------------- -- 9.3/10.0 MB 2.3 MB/s eta 0:00:01\n",
      "   ------------------------------------- -- 9.3/10.0 MB 2.3 MB/s eta 0:00:01\n",
      "   ------------------------------------- -- 9.4/10.0 MB 2.3 MB/s eta 0:00:01\n",
      "   ------------------------------------- -- 9.4/10.0 MB 2.3 MB/s eta 0:00:01\n",
      "   ------------------------------------- -- 9.5/10.0 MB 2.3 MB/s eta 0:00:01\n",
      "   -------------------------------------- - 9.6/10.0 MB 2.2 MB/s eta 0:00:01\n",
      "   -------------------------------------- - 9.6/10.0 MB 2.2 MB/s eta 0:00:01\n",
      "   -------------------------------------- - 9.6/10.0 MB 2.2 MB/s eta 0:00:01\n",
      "   ---------------------------------------  9.8/10.0 MB 2.2 MB/s eta 0:00:01\n",
      "   ---------------------------------------  9.9/10.0 MB 2.2 MB/s eta 0:00:01\n",
      "   ---------------------------------------  9.9/10.0 MB 2.2 MB/s eta 0:00:01\n",
      "   ---------------------------------------  9.9/10.0 MB 2.2 MB/s eta 0:00:01\n",
      "   ---------------------------------------  10.0/10.0 MB 2.2 MB/s eta 0:00:01\n",
      "   ---------------------------------------- 10.0/10.0 MB 2.2 MB/s eta 0:00:00\n",
      "Using cached certifi-2024.2.2-py3-none-any.whl (163 kB)\n",
      "Downloading trio-0.25.0-py3-none-any.whl (467 kB)\n",
      "   ---------------------------------------- 0.0/467.2 kB ? eta -:--:--\n",
      "   ----- ---------------------------------- 61.4/467.2 kB 1.1 MB/s eta 0:00:01\n",
      "   ---------- ----------------------------- 122.9/467.2 kB 1.4 MB/s eta 0:00:01\n",
      "   ---------------- ----------------------- 194.6/467.2 kB 1.5 MB/s eta 0:00:01\n",
      "   -------------------------- ------------- 307.2/467.2 kB 1.7 MB/s eta 0:00:01\n",
      "   --------------------------------- ------ 389.1/467.2 kB 1.7 MB/s eta 0:00:01\n",
      "   ---------------------------------------- 467.2/467.2 kB 1.8 MB/s eta 0:00:00\n",
      "Downloading trio_websocket-0.11.1-py3-none-any.whl (17 kB)\n",
      "Using cached urllib3-2.2.1-py3-none-any.whl (121 kB)\n",
      "Using cached attrs-23.2.0-py3-none-any.whl (60 kB)\n",
      "Using cached cffi-1.16.0-cp39-cp39-win_amd64.whl (181 kB)\n",
      "Downloading PySocks-1.7.1-py3-none-any.whl (16 kB)\n",
      "Downloading sniffio-1.3.1-py3-none-any.whl (10 kB)\n",
      "Downloading wsproto-1.2.0-py3-none-any.whl (24 kB)\n",
      "Using cached idna-3.6-py3-none-any.whl (61 kB)\n",
      "Downloading outcome-1.3.0.post0-py2.py3-none-any.whl (10 kB)\n",
      "Downloading sortedcontainers-2.4.0-py2.py3-none-any.whl (29 kB)\n",
      "Downloading h11-0.14.0-py3-none-any.whl (58 kB)\n",
      "   ---------------------------------------- 0.0/58.3 kB ? eta -:--:--\n",
      "   ----------------------------------- ---- 51.2/58.3 kB 1.3 MB/s eta 0:00:01\n",
      "   ---------------------------------------- 58.3/58.3 kB 1.0 MB/s eta 0:00:00\n",
      "Using cached pycparser-2.21-py2.py3-none-any.whl (118 kB)\n",
      "Installing collected packages: sortedcontainers, urllib3, sniffio, pysocks, pycparser, idna, h11, certifi, attrs, wsproto, outcome, cffi, trio, trio-websocket, selenium\n",
      "Successfully installed attrs-23.2.0 certifi-2024.2.2 cffi-1.16.0 h11-0.14.0 idna-3.6 outcome-1.3.0.post0 pycparser-2.21 pysocks-1.7.1 selenium-4.18.1 sniffio-1.3.1 sortedcontainers-2.4.0 trio-0.25.0 trio-websocket-0.11.1 urllib3-2.2.1 wsproto-1.2.0\n"
     ]
    }
   ],
   "source": [
    "%pip install selenium"
   ]
  },
  {
   "cell_type": "code",
   "execution_count": 4,
   "metadata": {},
   "outputs": [
    {
     "name": "stdout",
     "output_type": "stream",
     "text": [
      "Collecting webdriver_manager\n",
      "  Downloading webdriver_manager-4.0.1-py2.py3-none-any.whl.metadata (12 kB)\n",
      "Collecting requests (from webdriver_manager)\n",
      "  Using cached requests-2.31.0-py3-none-any.whl.metadata (4.6 kB)\n",
      "Collecting python-dotenv (from webdriver_manager)\n",
      "  Downloading python_dotenv-1.0.1-py3-none-any.whl.metadata (23 kB)\n",
      "Requirement already satisfied: packaging in d:\\machine_learning\\steel-plate-defect-prediction\\spd\\lib\\site-packages (from webdriver_manager) (24.0)\n",
      "Collecting charset-normalizer<4,>=2 (from requests->webdriver_manager)\n",
      "  Using cached charset_normalizer-3.3.2-cp39-cp39-win_amd64.whl.metadata (34 kB)\n",
      "Requirement already satisfied: idna<4,>=2.5 in d:\\machine_learning\\steel-plate-defect-prediction\\spd\\lib\\site-packages (from requests->webdriver_manager) (3.6)\n",
      "Requirement already satisfied: urllib3<3,>=1.21.1 in d:\\machine_learning\\steel-plate-defect-prediction\\spd\\lib\\site-packages (from requests->webdriver_manager) (2.2.1)\n",
      "Requirement already satisfied: certifi>=2017.4.17 in d:\\machine_learning\\steel-plate-defect-prediction\\spd\\lib\\site-packages (from requests->webdriver_manager) (2024.2.2)\n",
      "Downloading webdriver_manager-4.0.1-py2.py3-none-any.whl (27 kB)\n",
      "Downloading python_dotenv-1.0.1-py3-none-any.whl (19 kB)\n",
      "Using cached requests-2.31.0-py3-none-any.whl (62 kB)\n",
      "Using cached charset_normalizer-3.3.2-cp39-cp39-win_amd64.whl (100 kB)\n",
      "Installing collected packages: python-dotenv, charset-normalizer, requests, webdriver_manager\n",
      "Successfully installed charset-normalizer-3.3.2 python-dotenv-1.0.1 requests-2.31.0 webdriver_manager-4.0.1\n",
      "Note: you may need to restart the kernel to use updated packages.\n"
     ]
    }
   ],
   "source": [
    "%pip install webdriver_manager"
   ]
  },
  {
   "cell_type": "code",
   "execution_count": 2,
   "metadata": {},
   "outputs": [],
   "source": [
    "from selenium import webdriver\n",
    "from webdriver_manager.chrome import ChromeDriverManager\n",
    "options = webdriver.EdgeOptions()\n",
    "# driver = webdriver.Chrome(ChromeDriverManager().install())"
   ]
  },
  {
   "cell_type": "code",
   "execution_count": 3,
   "metadata": {},
   "outputs": [
    {
     "data": {
      "text/plain": [
       "<selenium.webdriver.edge.options.Options at 0x228f1de82b0>"
      ]
     },
     "execution_count": 3,
     "metadata": {},
     "output_type": "execute_result"
    }
   ],
   "source": [
    "options"
   ]
  },
  {
   "cell_type": "code",
   "execution_count": 8,
   "metadata": {},
   "outputs": [],
   "source": [
    "driver = webdriver.Edge(options=options)"
   ]
  },
  {
   "cell_type": "code",
   "execution_count": 9,
   "metadata": {},
   "outputs": [],
   "source": [
    "import re\n",
    "import pandas as pd"
   ]
  },
  {
   "cell_type": "code",
   "execution_count": 10,
   "metadata": {},
   "outputs": [],
   "source": [
    "# driver.get method() will navigate to a page given by the URL address\n",
    "driver.get(\"https://www.linkedin.com/posts/avijayvargia_python-machinelearning-deeplearning-activity-6687771362754383872-iRgt/\")"
   ]
  },
  {
   "cell_type": "code",
   "execution_count": 14,
   "metadata": {},
   "outputs": [],
   "source": [
    "from selenium.webdriver.common.by import By"
   ]
  },
  {
   "cell_type": "code",
   "execution_count": 62,
   "metadata": {},
   "outputs": [],
   "source": [
    "emails = driver.find_element(value='comments-comment-item__main-content', by=By.CLASS_NAME)\n",
    "comments = driver.find_element(\"name\",'comments-comments-list__comment-item', by=C)\n",
    "# emails = driver.find_element(\"name\",'comments-comment-item__main-content')\n",
    "# comments = driver.find_element(\"name\",'comments-comments-list__comment-item')\n",
    "# name = driver.find_element(\"name\",'comments-post-meta__name')\n",
    "# headline = driver.find_element(\"name\",'comments-post-meta__headline')"
   ]
  },
  {
   "cell_type": "code",
   "execution_count": 63,
   "metadata": {},
   "outputs": [
    {
     "data": {
      "text/plain": [
       "'borormeu@gmail.com'"
      ]
     },
     "execution_count": 63,
     "metadata": {},
     "output_type": "execute_result"
    }
   ],
   "source": [
    "emails.text"
   ]
  },
  {
   "cell_type": "code",
   "execution_count": 56,
   "metadata": {},
   "outputs": [],
   "source": [
    "nameList = []\n",
    "emailList = []\n",
    "headlineList = []\n",
    "\n",
    "\n",
    "for i in range(1):\n",
    "    \n",
    "    try:\n",
    "    \n",
    "        emailList.append(re.findall(\"([a-zA-Z0-9_.+-]+@[a-zA-Z0-9-]+\\.[a-zA-Z0-9-.]+)\", emails[i].text)[0])\n",
    "\n",
    "        # nameList.append((name[i].text).split(\"\\n\")[0])\n",
    "    \n",
    "        # headlineList.append(headline[i].text)\n",
    "    \n",
    "    except:\n",
    "        pass\n",
    "\n"
   ]
  },
  {
   "cell_type": "code",
   "execution_count": 57,
   "metadata": {},
   "outputs": [
    {
     "data": {
      "text/plain": [
       "[]"
      ]
     },
     "execution_count": 57,
     "metadata": {},
     "output_type": "execute_result"
    }
   ],
   "source": [
    "emailList"
   ]
  },
  {
   "cell_type": "code",
   "execution_count": 43,
   "metadata": {},
   "outputs": [],
   "source": [
    "# intialise data of lists.\n",
    "data = {'Name':nameList,\n",
    "        'E-mails': emailList,\n",
    "        'Headline':headlineList}\n",
    "\n",
    "# Create DataFrame\n",
    "df = pd.DataFrame(data)"
   ]
  },
  {
   "cell_type": "code",
   "execution_count": 44,
   "metadata": {},
   "outputs": [
    {
     "data": {
      "text/html": [
       "<div>\n",
       "<style scoped>\n",
       "    .dataframe tbody tr th:only-of-type {\n",
       "        vertical-align: middle;\n",
       "    }\n",
       "\n",
       "    .dataframe tbody tr th {\n",
       "        vertical-align: top;\n",
       "    }\n",
       "\n",
       "    .dataframe thead th {\n",
       "        text-align: right;\n",
       "    }\n",
       "</style>\n",
       "<table border=\"1\" class=\"dataframe\">\n",
       "  <thead>\n",
       "    <tr style=\"text-align: right;\">\n",
       "      <th></th>\n",
       "      <th>Name</th>\n",
       "      <th>E-mails</th>\n",
       "      <th>Headline</th>\n",
       "    </tr>\n",
       "  </thead>\n",
       "  <tbody>\n",
       "  </tbody>\n",
       "</table>\n",
       "</div>"
      ],
      "text/plain": [
       "Empty DataFrame\n",
       "Columns: [Name, E-mails, Headline]\n",
       "Index: []"
      ]
     },
     "execution_count": 44,
     "metadata": {},
     "output_type": "execute_result"
    }
   ],
   "source": [
    "df"
   ]
  },
  {
   "cell_type": "code",
   "execution_count": 8,
   "metadata": {},
   "outputs": [],
   "source": [
    "df.to_csv('emails.csv', mode='a')"
   ]
  },
  {
   "cell_type": "code",
   "execution_count": null,
   "metadata": {},
   "outputs": [],
   "source": []
  }
 ],
 "metadata": {
  "kernelspec": {
   "display_name": "Python 3",
   "language": "python",
   "name": "python3"
  },
  "language_info": {
   "codemirror_mode": {
    "name": "ipython",
    "version": 3
   },
   "file_extension": ".py",
   "mimetype": "text/x-python",
   "name": "python",
   "nbconvert_exporter": "python",
   "pygments_lexer": "ipython3",
   "version": "3.9.19"
  }
 },
 "nbformat": 4,
 "nbformat_minor": 4
}
