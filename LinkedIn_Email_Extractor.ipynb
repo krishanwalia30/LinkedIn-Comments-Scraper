{
 "cells": [
  {
   "cell_type": "markdown",
   "metadata": {},
   "source": [
    "### Installing the Required Libraries"
   ]
  },
  {
   "cell_type": "code",
   "execution_count": 1,
   "metadata": {},
   "outputs": [
    {
     "name": "stdout",
     "output_type": "stream",
     "text": [
      "Requirement already satisfied: selenium in d:\\machine_learning\\steel-plate-defect-prediction\\spd\\lib\\site-packages (4.18.1)\n",
      "Requirement already satisfied: urllib3<3,>=1.26 in d:\\machine_learning\\steel-plate-defect-prediction\\spd\\lib\\site-packages (from urllib3[socks]<3,>=1.26->selenium) (2.2.1)\n",
      "Requirement already satisfied: trio~=0.17 in d:\\machine_learning\\steel-plate-defect-prediction\\spd\\lib\\site-packages (from selenium) (0.25.0)\n",
      "Requirement already satisfied: trio-websocket~=0.9 in d:\\machine_learning\\steel-plate-defect-prediction\\spd\\lib\\site-packages (from selenium) (0.11.1)\n",
      "Requirement already satisfied: certifi>=2021.10.8 in d:\\machine_learning\\steel-plate-defect-prediction\\spd\\lib\\site-packages (from selenium) (2024.2.2)\n",
      "Requirement already satisfied: typing_extensions>=4.9.0 in d:\\machine_learning\\steel-plate-defect-prediction\\spd\\lib\\site-packages (from selenium) (4.10.0)\n",
      "Requirement already satisfied: attrs>=23.2.0 in d:\\machine_learning\\steel-plate-defect-prediction\\spd\\lib\\site-packages (from trio~=0.17->selenium) (23.2.0)\n",
      "Requirement already satisfied: sortedcontainers in d:\\machine_learning\\steel-plate-defect-prediction\\spd\\lib\\site-packages (from trio~=0.17->selenium) (2.4.0)\n",
      "Requirement already satisfied: idna in d:\\machine_learning\\steel-plate-defect-prediction\\spd\\lib\\site-packages (from trio~=0.17->selenium) (3.6)\n",
      "Requirement already satisfied: outcome in d:\\machine_learning\\steel-plate-defect-prediction\\spd\\lib\\site-packages (from trio~=0.17->selenium) (1.3.0.post0)\n",
      "Requirement already satisfied: sniffio>=1.3.0 in d:\\machine_learning\\steel-plate-defect-prediction\\spd\\lib\\site-packages (from trio~=0.17->selenium) (1.3.1)\n",
      "Requirement already satisfied: cffi>=1.14 in d:\\machine_learning\\steel-plate-defect-prediction\\spd\\lib\\site-packages (from trio~=0.17->selenium) (1.16.0)\n",
      "Requirement already satisfied: exceptiongroup in d:\\machine_learning\\steel-plate-defect-prediction\\spd\\lib\\site-packages (from trio~=0.17->selenium) (1.2.0)\n",
      "Requirement already satisfied: wsproto>=0.14 in d:\\machine_learning\\steel-plate-defect-prediction\\spd\\lib\\site-packages (from trio-websocket~=0.9->selenium) (1.2.0)\n",
      "Requirement already satisfied: pysocks!=1.5.7,<2.0,>=1.5.6 in d:\\machine_learning\\steel-plate-defect-prediction\\spd\\lib\\site-packages (from urllib3[socks]<3,>=1.26->selenium) (1.7.1)\n",
      "Requirement already satisfied: pycparser in d:\\machine_learning\\steel-plate-defect-prediction\\spd\\lib\\site-packages (from cffi>=1.14->trio~=0.17->selenium) (2.21)\n",
      "Requirement already satisfied: h11<1,>=0.9.0 in d:\\machine_learning\\steel-plate-defect-prediction\\spd\\lib\\site-packages (from wsproto>=0.14->trio-websocket~=0.9->selenium) (0.14.0)\n",
      "Note: you may need to restart the kernel to use updated packages.\n"
     ]
    }
   ],
   "source": [
    "%pip install selenium"
   ]
  },
  {
   "cell_type": "code",
   "execution_count": 4,
   "metadata": {},
   "outputs": [
    {
     "name": "stdout",
     "output_type": "stream",
     "text": [
      "Collecting webdriver_manager\n",
      "  Downloading webdriver_manager-4.0.1-py2.py3-none-any.whl.metadata (12 kB)\n",
      "Collecting requests (from webdriver_manager)\n",
      "  Using cached requests-2.31.0-py3-none-any.whl.metadata (4.6 kB)\n",
      "Collecting python-dotenv (from webdriver_manager)\n",
      "  Downloading python_dotenv-1.0.1-py3-none-any.whl.metadata (23 kB)\n",
      "Requirement already satisfied: packaging in d:\\machine_learning\\steel-plate-defect-prediction\\spd\\lib\\site-packages (from webdriver_manager) (24.0)\n",
      "Collecting charset-normalizer<4,>=2 (from requests->webdriver_manager)\n",
      "  Using cached charset_normalizer-3.3.2-cp39-cp39-win_amd64.whl.metadata (34 kB)\n",
      "Requirement already satisfied: idna<4,>=2.5 in d:\\machine_learning\\steel-plate-defect-prediction\\spd\\lib\\site-packages (from requests->webdriver_manager) (3.6)\n",
      "Requirement already satisfied: urllib3<3,>=1.21.1 in d:\\machine_learning\\steel-plate-defect-prediction\\spd\\lib\\site-packages (from requests->webdriver_manager) (2.2.1)\n",
      "Requirement already satisfied: certifi>=2017.4.17 in d:\\machine_learning\\steel-plate-defect-prediction\\spd\\lib\\site-packages (from requests->webdriver_manager) (2024.2.2)\n",
      "Downloading webdriver_manager-4.0.1-py2.py3-none-any.whl (27 kB)\n",
      "Downloading python_dotenv-1.0.1-py3-none-any.whl (19 kB)\n",
      "Using cached requests-2.31.0-py3-none-any.whl (62 kB)\n",
      "Using cached charset_normalizer-3.3.2-cp39-cp39-win_amd64.whl (100 kB)\n",
      "Installing collected packages: python-dotenv, charset-normalizer, requests, webdriver_manager\n",
      "Successfully installed charset-normalizer-3.3.2 python-dotenv-1.0.1 requests-2.31.0 webdriver_manager-4.0.1\n",
      "Note: you may need to restart the kernel to use updated packages.\n"
     ]
    }
   ],
   "source": [
    "%pip install webdriver_manager"
   ]
  },
  {
   "cell_type": "markdown",
   "metadata": {},
   "source": [
    "___"
   ]
  },
  {
   "cell_type": "markdown",
   "metadata": {},
   "source": [
    "## Main Script"
   ]
  },
  {
   "cell_type": "markdown",
   "metadata": {},
   "source": [
    "#### 1. Importing the required libraries"
   ]
  },
  {
   "cell_type": "code",
   "execution_count": 1,
   "metadata": {},
   "outputs": [],
   "source": [
    "import re\n",
    "import pandas as pd\n",
    "from selenium import webdriver\n",
    "from selenium.webdriver.common.by import By\n",
    "\n",
    "# For Microsoft Edge browser --------------------------------\n",
    "option = webdriver.EdgeOptions()\n",
    "\n",
    "# Chrome Options --------------------------------\n",
    "# from webdriver_manager.chrome import ChromeDriverManager\n",
    "# driver = webdriver.Chrome(ChromeDriverManager().install())"
   ]
  },
  {
   "cell_type": "markdown",
   "metadata": {},
   "source": [
    "- `The output of the kernel below will give the option to which the driver is installed`"
   ]
  },
  {
   "cell_type": "code",
   "execution_count": 2,
   "metadata": {},
   "outputs": [
    {
     "data": {
      "text/plain": [
       "<selenium.webdriver.edge.options.Options at 0x1def87c5d60>"
      ]
     },
     "execution_count": 2,
     "metadata": {},
     "output_type": "execute_result"
    }
   ],
   "source": [
    "option"
   ]
  },
  {
   "cell_type": "markdown",
   "metadata": {},
   "source": [
    "#### 2. Setting up the driver "
   ]
  },
  {
   "cell_type": "code",
   "execution_count": 3,
   "metadata": {},
   "outputs": [],
   "source": [
    "driver = webdriver.Edge(options=option)"
   ]
  },
  {
   "cell_type": "markdown",
   "metadata": {},
   "source": [
    "- `driver.get method() will navigate to a page given by the URL address`"
   ]
  },
  {
   "cell_type": "code",
   "execution_count": 4,
   "metadata": {},
   "outputs": [],
   "source": [
    "URL = \"https://www.linkedin.com/posts/jyoti-bhasin-7840991ba_resources-sop-cv-activity-7145768597116641281-lL2O/?utm_source=share&utm_medium=member_desktop\"\n",
    "driver.get(URL)"
   ]
  },
  {
   "cell_type": "markdown",
   "metadata": {},
   "source": [
    "- `This will search for the load more comments button and then will click on it.`"
   ]
  },
  {
   "cell_type": "code",
   "execution_count": 6,
   "metadata": {},
   "outputs": [],
   "source": [
    "button = driver.find_element(by=By.CLASS_NAME, value=\"comments-comments-list__load-more-comments-button\")\n",
    "button.click()"
   ]
  },
  {
   "cell_type": "markdown",
   "metadata": {},
   "source": [
    "#### 3. Fetching the components from the comments section of the post"
   ]
  },
  {
   "cell_type": "markdown",
   "metadata": {},
   "source": [
    "Look for the different elements in the webpage which are,\n",
    "- Email\n",
    "- Name \n",
    "- Headline\n",
    "- Number of comments "
   ]
  },
  {
   "cell_type": "markdown",
   "metadata": {},
   "source": [
    "*Class Names of different elements,-*\n",
    "\n",
    "- emails: `comments-comment-item-content-body` \n",
    "\n",
    "- comments: `social-details-social-counts__comments`\n",
    "\n",
    "- name: `comments-post-meta__name`\n",
    "\n",
    "- headline: `comments-post-meta__headline`"
   ]
  },
  {
   "cell_type": "code",
   "execution_count": 7,
   "metadata": {},
   "outputs": [],
   "source": [
    "emails = driver.find_elements(value='comments-comment-item-content-body', by=By.CLASS_NAME)\n",
    "comments = driver.find_element(value='social-details-social-counts__comments', by=By.CLASS_NAME)\n",
    "name = driver.find_elements(value=\"comments-post-meta__name\", by=By.CLASS_NAME)\n",
    "headline = driver.find_elements(by=By.CLASS_NAME,value='comments-post-meta__headline')"
   ]
  },
  {
   "cell_type": "markdown",
   "metadata": {},
   "source": [
    "### 4. Checking if the data has been correctly fetched"
   ]
  },
  {
   "cell_type": "code",
   "execution_count": 8,
   "metadata": {},
   "outputs": [
    {
     "data": {
      "text/plain": [
       "'atharvkumarsingh_bt21b2_13@dtu.ac.in'"
      ]
     },
     "execution_count": 8,
     "metadata": {},
     "output_type": "execute_result"
    }
   ],
   "source": [
    "emails[1].text"
   ]
  },
  {
   "cell_type": "code",
   "execution_count": 9,
   "metadata": {},
   "outputs": [
    {
     "data": {
      "text/plain": [
       "'536 comments'"
      ]
     },
     "execution_count": 9,
     "metadata": {},
     "output_type": "execute_result"
    }
   ],
   "source": [
    "comments.text"
   ]
  },
  {
   "cell_type": "code",
   "execution_count": 11,
   "metadata": {},
   "outputs": [
    {
     "data": {
      "text/plain": [
       "'Krishan Walia'"
      ]
     },
     "execution_count": 11,
     "metadata": {},
     "output_type": "execute_result"
    }
   ],
   "source": [
    "(name[0].text).split('\\n')[0]"
   ]
  },
  {
   "cell_type": "code",
   "execution_count": 12,
   "metadata": {},
   "outputs": [
    {
     "data": {
      "text/plain": [
       "'Experienced in ML and AI | Full Stack Developer | Quantum Computing Enthusiast | Writer | Research Scholar | Working on a Utility Patent'"
      ]
     },
     "execution_count": 12,
     "metadata": {},
     "output_type": "execute_result"
    }
   ],
   "source": [
    "headline[0].text"
   ]
  },
  {
   "cell_type": "markdown",
   "metadata": {},
   "source": [
    "#### 5. Extracting emails from the selenium driver object"
   ]
  },
  {
   "cell_type": "code",
   "execution_count": 15,
   "metadata": {},
   "outputs": [
    {
     "data": {
      "text/plain": [
       "536"
      ]
     },
     "execution_count": 15,
     "metadata": {},
     "output_type": "execute_result"
    }
   ],
   "source": [
    "no_of_comments = int((comments.text).split(' ')[0])\n",
    "no_of_comments"
   ]
  },
  {
   "cell_type": "code",
   "execution_count": 17,
   "metadata": {},
   "outputs": [
    {
     "name": "stdout",
     "output_type": "stream",
     "text": [
      "['krishanw30@gmail.com']\n",
      "['atharvkumarsingh_bt21b2_13@dtu.ac.in']\n",
      "['bovascherian@gmail.com']\n",
      "['aviral.s@iitg.ac.in']\n",
      "['dhruvkhare148@gmail.com']\n",
      "['aaryark19@gmail.com']\n",
      "['piero.ong11@gmail.com']\n",
      "['11n44sourjeshmukherjee@gmail.com']\n",
      "['trgtrong17@gmail.com']\n",
      "['term101112@gmail.com']\n",
      "['rutajit.dey@gmail.com']\n",
      "['aaryan2004kumar@gmail.com']\n",
      "['23cheds.bhat@ug.ictmumbai.edu.in']\n",
      "['roomofambition@gmail.com']\n",
      "['rathod.6@iitj.ac.in']\n",
      "['muskankadian263@gmail.com']\n",
      "['themahmed19651@outlook.com']\n",
      "['aanshsamyani123@gmail.com']\n",
      "['khamesra@wisc.edu']\n",
      "['mrflame5883@gmail.com']\n"
     ]
    }
   ],
   "source": [
    "no_of_comments = len(emails)\n",
    "for i in range(no_of_comments):\n",
    "    # print(re.findall(\"([a-zA-Z0-9_.+-]+@[a-zA-Z0-9-]+\\.[a-zA-Z0-9-.]+)\", emails[i].text)[0])\n",
    "    print(re.findall(\"([a-zA-Z0-9_.+-]+@[a-zA-Z0-9-]+\\.[a-zA-Z0-9-.]+)\", emails[i].text))"
   ]
  },
  {
   "cell_type": "markdown",
   "metadata": {},
   "source": [
    "#### 6. Appending the extracted data to different lists"
   ]
  },
  {
   "cell_type": "code",
   "execution_count": 22,
   "metadata": {},
   "outputs": [],
   "source": [
    "nameList = []\n",
    "emailList = []\n",
    "headlineList = []\n",
    "\n",
    "\n",
    "for i in range(no_of_comments):\n",
    "    \n",
    "    try:\n",
    "    \n",
    "        emailList.append(re.findall(\"([a-zA-Z0-9_.+-]+@[a-zA-Z0-9-]+\\.[a-zA-Z0-9-.]+)\", emails[i].text)[0])\n",
    "\n",
    "        nameList.append((name[i].text).split(\"\\n\")[0])\n",
    "    \n",
    "        headlineList.append(headline[i].text)\n",
    "    \n",
    "    except:\n",
    "        pass\n",
    "\n"
   ]
  },
  {
   "cell_type": "markdown",
   "metadata": {},
   "source": [
    "#### 7. Converting the list to pd.DataFrame "
   ]
  },
  {
   "cell_type": "code",
   "execution_count": 23,
   "metadata": {},
   "outputs": [],
   "source": [
    "# intialise data of lists.\n",
    "data = {'Name':nameList,\n",
    "        'E-mails': emailList,\n",
    "        'Headline':headlineList}\n",
    "\n",
    "# Create DataFrame\n",
    "df = pd.DataFrame(data)"
   ]
  },
  {
   "cell_type": "markdown",
   "metadata": {},
   "source": [
    "#### 8. Overview of the DataFrame"
   ]
  },
  {
   "cell_type": "code",
   "execution_count": 25,
   "metadata": {},
   "outputs": [
    {
     "data": {
      "text/html": [
       "<div>\n",
       "<style scoped>\n",
       "    .dataframe tbody tr th:only-of-type {\n",
       "        vertical-align: middle;\n",
       "    }\n",
       "\n",
       "    .dataframe tbody tr th {\n",
       "        vertical-align: top;\n",
       "    }\n",
       "\n",
       "    .dataframe thead th {\n",
       "        text-align: right;\n",
       "    }\n",
       "</style>\n",
       "<table border=\"1\" class=\"dataframe\">\n",
       "  <thead>\n",
       "    <tr style=\"text-align: right;\">\n",
       "      <th></th>\n",
       "      <th>Name</th>\n",
       "      <th>E-mails</th>\n",
       "      <th>Headline</th>\n",
       "    </tr>\n",
       "  </thead>\n",
       "  <tbody>\n",
       "    <tr>\n",
       "      <th>0</th>\n",
       "      <td>Krishan Walia</td>\n",
       "      <td>krishanw30@gmail.com</td>\n",
       "      <td>Experienced in ML and AI | Full Stack Develope...</td>\n",
       "    </tr>\n",
       "    <tr>\n",
       "      <th>1</th>\n",
       "      <td>Atharv Kumar Singh</td>\n",
       "      <td>atharvkumarsingh_bt21b2_13@dtu.ac.in</td>\n",
       "      <td>Data Analyst | Web Developer | Volunteer Leade...</td>\n",
       "    </tr>\n",
       "    <tr>\n",
       "      <th>2</th>\n",
       "      <td>Bovas Abraham</td>\n",
       "      <td>bovascherian@gmail.com</td>\n",
       "      <td>Student at St. Berchmans College</td>\n",
       "    </tr>\n",
       "    <tr>\n",
       "      <th>3</th>\n",
       "      <td>Aviral Srivastava</td>\n",
       "      <td>aviral.s@iitg.ac.in</td>\n",
       "      <td>Student at Indian Institute of Technology, Guw...</td>\n",
       "    </tr>\n",
       "    <tr>\n",
       "      <th>4</th>\n",
       "      <td>Dhruv Khare</td>\n",
       "      <td>dhruvkhare148@gmail.com</td>\n",
       "      <td>CS Major at NSUT'Delhi | Entrepreneurship and ...</td>\n",
       "    </tr>\n",
       "    <tr>\n",
       "      <th>5</th>\n",
       "      <td>Aarya Kalyankar</td>\n",
       "      <td>aaryark19@gmail.com</td>\n",
       "      <td>Attended Gokhale Institute of Politics and Eco...</td>\n",
       "    </tr>\n",
       "    <tr>\n",
       "      <th>6</th>\n",
       "      <td>Piero Antonio Ong</td>\n",
       "      <td>piero.ong11@gmail.com</td>\n",
       "      <td>Indonesian High School Student | Interested in...</td>\n",
       "    </tr>\n",
       "    <tr>\n",
       "      <th>7</th>\n",
       "      <td>Sourjesh Mukherjee</td>\n",
       "      <td>11n44sourjeshmukherjee@gmail.com</td>\n",
       "      <td>IIIT Kottayam '26 || SIH Winner '23 || AI/ML E...</td>\n",
       "    </tr>\n",
       "    <tr>\n",
       "      <th>8</th>\n",
       "      <td>Trong Truong</td>\n",
       "      <td>trgtrong17@gmail.com</td>\n",
       "      <td>--</td>\n",
       "    </tr>\n",
       "    <tr>\n",
       "      <th>9</th>\n",
       "      <td>Term Iris</td>\n",
       "      <td>term101112@gmail.com</td>\n",
       "      <td>New</td>\n",
       "    </tr>\n",
       "    <tr>\n",
       "      <th>10</th>\n",
       "      <td>Rutajit Dey</td>\n",
       "      <td>rutajit.dey@gmail.com</td>\n",
       "      <td>--</td>\n",
       "    </tr>\n",
       "    <tr>\n",
       "      <th>11</th>\n",
       "      <td>Aaryan Kumar</td>\n",
       "      <td>aaryan2004kumar@gmail.com</td>\n",
       "      <td>Student at Indian Statistical Institute, Kolkata</td>\n",
       "    </tr>\n",
       "    <tr>\n",
       "      <th>12</th>\n",
       "      <td>Dev Bhat</td>\n",
       "      <td>23cheds.bhat@ug.ictmumbai.edu.in</td>\n",
       "      <td>Student at Institute Of Chemical Technology</td>\n",
       "    </tr>\n",
       "    <tr>\n",
       "      <th>13</th>\n",
       "      <td>Manleen Kaur Bhatia</td>\n",
       "      <td>roomofambition@gmail.com</td>\n",
       "      <td>Attended Bharatiya Vidya Bhavan's</td>\n",
       "    </tr>\n",
       "    <tr>\n",
       "      <th>14</th>\n",
       "      <td>Omkar Rathod</td>\n",
       "      <td>rathod.6@iitj.ac.in</td>\n",
       "      <td>Pre-final year Student at Indian Institute of ...</td>\n",
       "    </tr>\n",
       "    <tr>\n",
       "      <th>15</th>\n",
       "      <td>Muskan Kadian</td>\n",
       "      <td>muskankadian263@gmail.com</td>\n",
       "      <td>Student at gnlu</td>\n",
       "    </tr>\n",
       "    <tr>\n",
       "      <th>16</th>\n",
       "      <td>Mohammad Ahmed Arshad</td>\n",
       "      <td>themahmed19651@outlook.com</td>\n",
       "      <td>ACCA FIA Student | Finance and Legal Enthusias...</td>\n",
       "    </tr>\n",
       "    <tr>\n",
       "      <th>17</th>\n",
       "      <td>Aansh Samyani</td>\n",
       "      <td>aanshsamyani123@gmail.com</td>\n",
       "      <td>--</td>\n",
       "    </tr>\n",
       "    <tr>\n",
       "      <th>18</th>\n",
       "      <td>Jayaditya Khamesra</td>\n",
       "      <td>khamesra@wisc.edu</td>\n",
       "      <td>Student at University of Wisconsin-Madison</td>\n",
       "    </tr>\n",
       "    <tr>\n",
       "      <th>19</th>\n",
       "      <td>SHUBHAM .</td>\n",
       "      <td>mrflame5883@gmail.com</td>\n",
       "      <td>SPACE EXPLORER🪐 || AI-ML [ 🃏JACK OF ALL TRADEs ]</td>\n",
       "    </tr>\n",
       "  </tbody>\n",
       "</table>\n",
       "</div>"
      ],
      "text/plain": [
       "                     Name                               E-mails  \\\n",
       "0           Krishan Walia                  krishanw30@gmail.com   \n",
       "1      Atharv Kumar Singh  atharvkumarsingh_bt21b2_13@dtu.ac.in   \n",
       "2           Bovas Abraham                bovascherian@gmail.com   \n",
       "3       Aviral Srivastava                   aviral.s@iitg.ac.in   \n",
       "4             Dhruv Khare               dhruvkhare148@gmail.com   \n",
       "5         Aarya Kalyankar                   aaryark19@gmail.com   \n",
       "6       Piero Antonio Ong                 piero.ong11@gmail.com   \n",
       "7      Sourjesh Mukherjee      11n44sourjeshmukherjee@gmail.com   \n",
       "8            Trong Truong                  trgtrong17@gmail.com   \n",
       "9               Term Iris                  term101112@gmail.com   \n",
       "10            Rutajit Dey                 rutajit.dey@gmail.com   \n",
       "11           Aaryan Kumar             aaryan2004kumar@gmail.com   \n",
       "12               Dev Bhat      23cheds.bhat@ug.ictmumbai.edu.in   \n",
       "13    Manleen Kaur Bhatia              roomofambition@gmail.com   \n",
       "14           Omkar Rathod                   rathod.6@iitj.ac.in   \n",
       "15          Muskan Kadian             muskankadian263@gmail.com   \n",
       "16  Mohammad Ahmed Arshad            themahmed19651@outlook.com   \n",
       "17          Aansh Samyani             aanshsamyani123@gmail.com   \n",
       "18     Jayaditya Khamesra                     khamesra@wisc.edu   \n",
       "19              SHUBHAM .                 mrflame5883@gmail.com   \n",
       "\n",
       "                                             Headline  \n",
       "0   Experienced in ML and AI | Full Stack Develope...  \n",
       "1   Data Analyst | Web Developer | Volunteer Leade...  \n",
       "2                    Student at St. Berchmans College  \n",
       "3   Student at Indian Institute of Technology, Guw...  \n",
       "4   CS Major at NSUT'Delhi | Entrepreneurship and ...  \n",
       "5   Attended Gokhale Institute of Politics and Eco...  \n",
       "6   Indonesian High School Student | Interested in...  \n",
       "7   IIIT Kottayam '26 || SIH Winner '23 || AI/ML E...  \n",
       "8                                                  --  \n",
       "9                                                 New  \n",
       "10                                                 --  \n",
       "11   Student at Indian Statistical Institute, Kolkata  \n",
       "12        Student at Institute Of Chemical Technology  \n",
       "13                  Attended Bharatiya Vidya Bhavan's  \n",
       "14  Pre-final year Student at Indian Institute of ...  \n",
       "15                                    Student at gnlu  \n",
       "16  ACCA FIA Student | Finance and Legal Enthusias...  \n",
       "17                                                 --  \n",
       "18         Student at University of Wisconsin-Madison  \n",
       "19   SPACE EXPLORER🪐 || AI-ML [ 🃏JACK OF ALL TRADEs ]  "
      ]
     },
     "execution_count": 25,
     "metadata": {},
     "output_type": "execute_result"
    }
   ],
   "source": [
    "df"
   ]
  },
  {
   "cell_type": "markdown",
   "metadata": {},
   "source": [
    "__NOTE__: Kindly don't use this data for something illegal."
   ]
  },
  {
   "cell_type": "markdown",
   "metadata": {},
   "source": [
    "#### 9. Saving the .csv file of the DataFrame"
   ]
  },
  {
   "cell_type": "code",
   "execution_count": 26,
   "metadata": {},
   "outputs": [],
   "source": [
    "df.to_csv('INTERNATIONAL_RESEARCH_LIST.csv', mode='a')"
   ]
  },
  {
   "cell_type": "code",
   "execution_count": null,
   "metadata": {},
   "outputs": [],
   "source": []
  }
 ],
 "metadata": {
  "kernelspec": {
   "display_name": "Python 3",
   "language": "python",
   "name": "python3"
  },
  "language_info": {
   "codemirror_mode": {
    "name": "ipython",
    "version": 3
   },
   "file_extension": ".py",
   "mimetype": "text/x-python",
   "name": "python",
   "nbconvert_exporter": "python",
   "pygments_lexer": "ipython3",
   "version": "3.9.19"
  }
 },
 "nbformat": 4,
 "nbformat_minor": 4
}
